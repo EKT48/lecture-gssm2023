{
 "cells": [
  {
   "cell_type": "markdown",
   "id": "ca6f6ed6-79e9-4efc-836a-040000ce8c89",
   "metadata": {
    "tags": []
   },
   "source": [
    "# day 4\n",
    "\n",
    "---"
   ]
  },
  {
   "cell_type": "markdown",
   "id": "14d9bc8c-8096-4d76-b983-250b7a4b8203",
   "metadata": {},
   "source": [
    "## 0. はじめに"
   ]
  },
  {
   "cell_type": "markdown",
   "id": "1a794a09-51b9-449b-b699-32a6318de81b",
   "metadata": {},
   "source": [
    "ページ上部のメニューバーにある **Kernel** メニューをクリックし、プルダウンメニューから [**Change Kernel ...**] を選び、**gssm2023:Python** を選択してください。\n",
    "\n",
    "<img src=\"images/change_kernel1.png\" width=\"30%\">"
   ]
  },
  {
   "cell_type": "markdown",
   "id": "097064cc-d520-4893-a0e6-16ff5b34c15a",
   "metadata": {},
   "source": [
    "ノートブック上部の右隅に表示されたカーネル名が **gssm2023:Python** になっていることを確認してください。\n",
    "\n",
    "<img src=\"images/change_kernel2.png\" width=\"30%\">\n",
    "\n",
    "---"
   ]
  },
  {
   "cell_type": "markdown",
   "id": "647bd5b1-64b2-4113-90c7-f31684ed2860",
   "metadata": {},
   "source": [
    "## 1. KHCoder のテキスト解析&分析"
   ]
  },
  {
   "cell_type": "markdown",
   "id": "7fb0ca9d",
   "metadata": {},
   "source": [
    "### 1.0 事前準備 (関数の定義)"
   ]
  },
  {
   "cell_type": "markdown",
   "id": "320ee7c5-a814-455c-93ca-b4989fbd6f68",
   "metadata": {},
   "source": [
    "以下のセルを**修正せず**に実行してください"
   ]
  },
  {
   "cell_type": "code",
   "execution_count": null,
   "id": "7e54fc3c",
   "metadata": {},
   "outputs": [],
   "source": [
    "import warnings\n",
    "warnings.simplefilter('ignore')\n",
    "\n",
    "# ワードクラウドを描画する\n",
    "def plot_wordcloud(word_str, width=6, height=4):\n",
    "\n",
    "    import matplotlib.pyplot as plt\n",
    "    %matplotlib inline\n",
    "\n",
    "    fig = plt.figure(figsize=(width, height))\n",
    "    ax = fig.add_subplot(1, 1, 1)\n",
    "    plot_wordcloud_ax(ax, word_str)\n",
    "    plt.axis(\"off\")\n",
    "    plt.tight_layout()\n",
    "    plt.show()\n",
    "\n",
    "def plot_wordcloud_ax(ax, word_str):\n",
    "\n",
    "    font_path = !find ${HOME} -name \"ipaexg.ttf\"\n",
    "    # font_path='/Library/Fonts/Arial Unicode.ttf'\n",
    "\n",
    "    import wordcloud\n",
    "\n",
    "    wc = wordcloud.WordCloud(\n",
    "        background_color='white',\n",
    "        font_path=font_path[0],\n",
    "        max_font_size=100)\n",
    "\n",
    "    img = wc.generate(word_str)\n",
    "    ax.imshow(img, interpolation='bilinear')\n",
    "\n",
    "\n",
    "# トピックモデルによるワードクラウドを描画する\n",
    "def plot_topic_model(lda, feature_names, n_top_words=20, width=10, height=4):\n",
    "\n",
    "    font_path = !find ${HOME} -name \"ipaexg.ttf\"\n",
    "    # font_path='/Library/Fonts/Arial Unicode.ttf'\n",
    "\n",
    "    import matplotlib.pyplot as plt\n",
    "    import wordcloud\n",
    "    %matplotlib inline\n",
    "\n",
    "    fig = plt.figure(figsize=(width, height))\n",
    "\n",
    "    for topic_idx, topic in enumerate(lda.components_):\n",
    "        sorted_text = ' '.join([feature_names[i] for i in topic.argsort()[:-n_top_words-1:-1]])\n",
    "\n",
    "        wc = wordcloud.WordCloud(\n",
    "            background_color='white',\n",
    "            font_path=font_path[0],\n",
    "            max_font_size=100)\n",
    "\n",
    "        ax = fig.add_subplot(2, 3, topic_idx + 1)\n",
    "        img = wc.generate(sorted_text)\n",
    "        ax.imshow(img, interpolation='bilinear')\n",
    "        ax.set_title(f\"Topic # {topic_idx+1}:\")\n",
    "\n",
    "    plt.tight_layout()\n",
    "    plt.show()\n",
    "\n",
    "\n",
    "# 共起ネットワークを描画する (抽出語-抽出語用)\n",
    "def plot_cooccur_network(df, word_counts, cutoff, width=8, height=8):\n",
    "\n",
    "    import matplotlib.pyplot as plt\n",
    "    import japanize_matplotlib\n",
    "\n",
    "    plt.figure(figsize=(width, height))\n",
    "    fig = plt.figure(figsize=(width, height))\n",
    "    ax = fig.add_subplot(1, 1, 1)\n",
    "    plot_cooccur_network_ax(ax, df, word_counts, cutoff)\n",
    "    plt.axis(\"off\")\n",
    "    plt.show()\n",
    "\n",
    "def plot_cooccur_network_ax(ax, df, word_counts, cutoff):\n",
    "\n",
    "    import numpy as np\n",
    "    import networkx as nx\n",
    "    from networkx.algorithms import community\n",
    "    from networkx.drawing.nx_agraph import graphviz_layout\n",
    "    import matplotlib.pyplot as plt\n",
    "    import japanize_matplotlib\n",
    "    %matplotlib inline\n",
    "\n",
    "    Xc = df.values\n",
    "    Xc_max = Xc.max()\n",
    "\n",
    "    words = df.columns\n",
    "    count_max = word_counts.max()\n",
    "\n",
    "    weights_w, weights_c = [], []\n",
    "    for i, j in zip(*Xc.nonzero()):\n",
    "        if i < j and Xc[i,j] > cutoff:\n",
    "            weights_w.append((words[i], {'weight': word_counts[i] / count_max}))\n",
    "            weights_w.append((words[j], {'weight': word_counts[j] / count_max}))\n",
    "            weights_c.append((words[i], words[j], Xc[i,j] / Xc_max))\n",
    "\n",
    "    G = nx.Graph()\n",
    "    G.add_nodes_from(weights_w)\n",
    "    G.add_weighted_edges_from(weights_c)\n",
    "    G.remove_nodes_from(list(nx.isolates(G)))\n",
    "    # G = nx.minimum_spanning_tree(G)\n",
    "\n",
    "    # pos = nx.spring_layout(G, k=0.3)\n",
    "    pos = graphviz_layout(G, prog='neato', args='-Goverlap=\"scalexy\" -Gsep=\"+6\" -Gnodesep=0.8 -Gsplines=\"polyline\" -GpackMode=\"graph\" -Gstart={}'.format(43))\n",
    "    weights_n = np.array(list(nx.get_node_attributes(G, 'weight').values()))\n",
    "    weights_e = np.array(list(nx.get_edge_attributes(G, 'weight').values()))\n",
    "\n",
    "    communities = community.greedy_modularity_communities(G)\n",
    "    color_map = []\n",
    "    for node in G:\n",
    "        for i, c in enumerate(communities):\n",
    "            if node in c:\n",
    "                color_map.append(i)\n",
    "\n",
    "    nx.draw_networkx_nodes(G, pos, node_color=color_map, alpha=0.7, cmap=plt.cm.Set2, node_size=5000 * weights_n, ax=ax)\n",
    "    nx.draw_networkx_edges(G, pos, edge_color='gray', edge_cmap=plt.cm.Blues, alpha=0.7, width=3 * weights_e, ax=ax)\n",
    "    nx.draw_networkx_labels(G, pos, font_family='IPAexGothic', ax=ax)\n",
    "    # ax.axis('off')\n",
    "\n",
    "\n",
    "# 共起ネットワークを描画する (外部変数-抽出語用)\n",
    "def plot_attrs_network(df, attr_counts, word_counts, cutoff, width=8, height=8):\n",
    "\n",
    "    import numpy as np\n",
    "    import networkx as nx\n",
    "    import matplotlib.pyplot as plt\n",
    "    import japanize_matplotlib\n",
    "    from networkx.drawing.nx_agraph import graphviz_layout\n",
    "    %matplotlib inline\n",
    "\n",
    "    Xc = df.values\n",
    "    Xc_max = Xc.max()\n",
    "\n",
    "    attrs = list(df.index)\n",
    "    attr_count_max = attr_counts.max()\n",
    "\n",
    "    words = list(df.columns)\n",
    "    word_count_max = word_counts.max()\n",
    "\n",
    "    weights_n, weights_c = [], []\n",
    "    for i, j in zip(*Xc.nonzero()):\n",
    "        if Xc[i,j] > cutoff:\n",
    "            weights_n.append((attrs[i], {'weight': attr_counts[i] / attr_count_max, 'type': 'attr'}))\n",
    "            weights_n.append((words[j], {'weight': word_counts[j] / word_count_max, 'type': 'word'}))\n",
    "            weights_c.append((attrs[i], words[j], Xc[i,j] / Xc_max))\n",
    "\n",
    "    G = nx.Graph()\n",
    "    G.add_nodes_from(weights_n)\n",
    "    G.add_weighted_edges_from(weights_c)\n",
    "    G.remove_nodes_from(list(nx.isolates(G)))\n",
    "    # G = nx.minimum_spanning_tree(G)\n",
    "\n",
    "    plt.figure(figsize=(width, height))\n",
    "    # pos = nx.spring_layout(G, k=0.3)\n",
    "    pos = graphviz_layout(G, prog='neato', args='-Goverlap=\"scalexy\" -Gsep=\"+6\" -Gnodesep=0.8 -Gsplines=\"polyline\" -GpackMode=\"graph\" -Gstart={}'.format(43))\n",
    "\n",
    "    nodelist_a = [node for node in G.nodes if G.nodes[node]['type'] == 'attr']\n",
    "    nodelist_w = [node for node in G.nodes if G.nodes[node]['type'] == 'word']\n",
    "    weights_a = np.array([G.nodes[node]['weight'] for node in G.nodes if G.nodes[node]['type'] == 'attr'])\n",
    "    weights_w = np.array([G.nodes[node]['weight'] for node in G.nodes if G.nodes[node]['type'] == 'word'])\n",
    "    weights_e = np.array(list(nx.get_edge_attributes(G, 'weight').values()))\n",
    "\n",
    "    color_map = []\n",
    "    for node in G:\n",
    "        if G.nodes[node]['type'] == 'word':\n",
    "            color_map.append(G.degree(node)+3)\n",
    "\n",
    "    nx.draw_networkx_nodes(G, pos, node_color='lightsalmon', alpha=0.7, cmap=plt.cm.Set2, node_size=1000 * weights_a, nodelist=nodelist_a, node_shape='s')\n",
    "    nx.draw_networkx_nodes(G, pos, node_color=color_map, alpha=0.7, cmap=plt.cm.Set2, node_size=5000 * weights_w, nodelist=nodelist_w)\n",
    "    nx.draw_networkx_edges(G, pos, edge_color='gray', edge_cmap=plt.cm.Blues, alpha=0.7, width=3 * weights_e)\n",
    "    nx.draw_networkx_labels(G, pos, font_family='IPAexGothic')\n",
    "\n",
    "    plt.axis(\"off\")\n",
    "    plt.show()\n",
    "\n",
    "\n",
    "# 係り受けによる共起ネットワークを描画する\n",
    "def plot_dependency_network(df, word_counts, cutoff, width=8, height=8):\n",
    "\n",
    "    import numpy as np\n",
    "    import networkx as nx\n",
    "    from networkx.algorithms import community\n",
    "    import matplotlib.pyplot as plt\n",
    "    import japanize_matplotlib\n",
    "    from networkx.drawing.nx_agraph import graphviz_layout\n",
    "    %matplotlib inline\n",
    "\n",
    "    Xc = df.values\n",
    "    Xc_max = Xc.max()\n",
    "\n",
    "    words = df.columns\n",
    "    count_max = word_counts.max()\n",
    "\n",
    "    weights_w, weights_c = [], []\n",
    "    for i, j in zip(*Xc.nonzero()):\n",
    "        if i != j and Xc[i,j] > cutoff:\n",
    "            weights_w.append((words[i], {'weight': word_counts[i] / count_max}))\n",
    "            weights_w.append((words[j], {'weight': word_counts[j] / count_max}))\n",
    "            weights_c.append((words[i], words[j], Xc[i,j] / Xc_max))\n",
    "\n",
    "    G = nx.DiGraph()\n",
    "    G.add_nodes_from(weights_w)\n",
    "    G.add_weighted_edges_from(weights_c)\n",
    "    G.remove_nodes_from(list(nx.isolates(G)))\n",
    "    # G = nx.minimum_spanning_tree(G)\n",
    "\n",
    "    plt.figure(figsize=(width, height))\n",
    "    # pos = nx.spring_layout(G, k=0.3)\n",
    "    pos = graphviz_layout(G, prog='neato', args='-Goverlap=\"scalexy\" -Gsep=\"+6\" -Gnodesep=0.8 -Gsplines=\"polyline\" -GpackMode=\"graph\" -Gstart={}'.format(43))\n",
    "    weights_n = np.array(list(nx.get_node_attributes(G, 'weight').values()))\n",
    "    weights_e = np.array(list(nx.get_edge_attributes(G, 'weight').values()))\n",
    "\n",
    "    communities = community.greedy_modularity_communities(G)\n",
    "    color_map = []\n",
    "    for node in G:\n",
    "        for i, c in enumerate(communities):\n",
    "            if node in c:\n",
    "                color_map.append(i)\n",
    "\n",
    "    nx.draw_networkx_nodes(G, pos, node_color=color_map, alpha=0.7, cmap=plt.cm.Set2, node_size=5000 * weights_n)\n",
    "    nx.draw_networkx_edges(G, pos, edge_color='gray', edge_cmap=plt.cm.Blues, alpha=0.7, width=3 * weights_e)\n",
    "    nx.draw_networkx_labels(G, pos, font_family='IPAexGothic')\n",
    "\n",
    "    plt.axis(\"off\")\n",
    "    plt.show()\n",
    "\n",
    "\n",
    "# 対応分析の結果をプロットする\n",
    "def plot_coresp(row_coord, col_coord, row_labels, col_labels, explained_inertia=None, width=8, height=8):\n",
    "\n",
    "    import matplotlib.pyplot as plt\n",
    "    import japanize_matplotlib\n",
    "    %matplotlib inline\n",
    "\n",
    "    plt.figure(figsize=(width, height))\n",
    "\n",
    "    # Plot of rows (外部変数)\n",
    "    plt.plot(row_coord[:, 0], row_coord[:, 1], \"*\", color='red', alpha=0.5)\n",
    "    for i, label in enumerate(row_labels):\n",
    "        plt.text(row_coord[i, 0], row_coord[i, 1], label, color='red', ha='left', va='bottom')\n",
    "\n",
    "    # Plot of columns (単語)\n",
    "    plt.plot(col_coord[:, 0], col_coord[:, 1], \"o\", color='blue', alpha=0.5)\n",
    "    for i, label in enumerate(col_labels):\n",
    "        plt.text(col_coord[i, 0], col_coord[i, 1], label, color='blue', ha='left', va='bottom')\n",
    "\n",
    "    plt.axvline(0, linestyle='dashed', color='gray', alpha=0.5)\n",
    "    plt.axhline(0, linestyle='dashed', color='gray', alpha=0.5)\n",
    "\n",
    "    if explained_inertia is not None:\n",
    "        plt.xlabel(f\"Dim 1 ({explained_inertia[0]:.3f}%)\")\n",
    "        plt.ylabel(f\"Dim 2 ({explained_inertia[1]:.3f}%)\")\n",
    "\n",
    "    # plt.axis('equal')\n",
    "    plt.show()\n",
    "\n",
    "\n",
    "# PCA の結果をプロットする\n",
    "def plot_pca(coeff, reduced, row_labels, col_labels, var_ratio=None, width=8, height=8):\n",
    "\n",
    "    import matplotlib.pyplot as plt\n",
    "    import japanize_matplotlib\n",
    "    %matplotlib inline\n",
    "\n",
    "    plt.figure(figsize=(width, height))\n",
    "\n",
    "    # Plot of rows (外部変数)\n",
    "    for i, label in enumerate(row_labels):\n",
    "        plt.arrow(0, 0, coeff[i,0], coeff[i,1], color='r', alpha=0.5)\n",
    "        plt.text(coeff[i, 0], coeff[i, 1], label, color='red', ha='left', va='bottom')\n",
    "\n",
    "    # Plot of columns (単語)\n",
    "    plt.plot(reduced[:, 0], reduced[:, 1], \"o\", color='blue', alpha=0.5)\n",
    "    for i, label in enumerate(col_labels):\n",
    "        plt.text(reduced[i, 0], reduced[i, 1], label, color='blue', ha='left', va='bottom')\n",
    "\n",
    "    plt.axvline(0, linestyle='dashed', color='gray', alpha=0.5)\n",
    "    plt.axhline(0, linestyle='dashed', color='gray', alpha=0.5)\n",
    "\n",
    "    if var_ratio is not None:\n",
    "        plt.xlabel(f\"Dim 1 ({var_ratio[0]*100:.3f}%)\")\n",
    "        plt.ylabel(f\"Dim 2 ({var_ratio[1]*100:.3f}%)\")\n",
    "\n",
    "    # plt.axis('equal')\n",
    "    plt.show()\n",
    "\n",
    "\n",
    "# 共起頻度行列を Jaccard 係数行列に変換する (抽出語-抽出語用)\n",
    "def jaccard_coef(cooccur_df, cross_df):\n",
    "\n",
    "    import numpy as np\n",
    "    import pandas as pd\n",
    "\n",
    "    Xc = cooccur_df.values\n",
    "    Xj = np.zeros(Xc.shape)\n",
    "    Xc_sum = cross_df.sum(axis=0).values\n",
    "\n",
    "    for i, j in zip(*Xc.nonzero()):\n",
    "        if i < j:\n",
    "            Xj[i,j] = Xc[i,j] / (Xc_sum[i] + Xc_sum[j] - Xc[i,j])\n",
    "\n",
    "    jaccard_df = pd.DataFrame(Xj, columns=cooccur_df.columns, index=cooccur_df.columns)\n",
    "\n",
    "    return jaccard_df\n",
    "\n",
    "\n",
    "# 共起頻度行列を Jaccard 係数行列に変換する (外部変数-抽出語用)\n",
    "def jaccard_attrs_coef(df, attr_counts, word_counts, total=10000, conditional=False):\n",
    "\n",
    "    import numpy as np\n",
    "    import pandas as pd\n",
    "\n",
    "    Xc = df.values\n",
    "    Xj = np.zeros(df.shape)\n",
    "\n",
    "    for i, j in zip(*Xc.nonzero()):\n",
    "\n",
    "        if not conditional:\n",
    "            conditional_prob = Xc[i,j] / attr_counts[i]\n",
    "            assumption_prob = word_counts[j] / total\n",
    "\n",
    "            if conditional_prob > assumption_prob:\n",
    "                Xj[i,j] = Xc[i,j] / (attr_counts[i] + word_counts[j] - Xc[i,j])\n",
    "            else:\n",
    "                Xj[i,j] = .0\n",
    "        else:\n",
    "            Xj[i,j] = Xc[i,j] / (attr_counts[i] + word_counts[j] - Xc[i,j])\n",
    "\n",
    "    jaccard_df = pd.DataFrame(Xj, columns=df.columns, index=df.index)\n",
    "\n",
    "    return jaccard_df"
   ]
  },
  {
   "cell_type": "markdown",
   "id": "3ffa2dec-da82-4b61-a10d-d00aad109f41",
   "metadata": {},
   "source": [
    "### 1.1 データのダウンロード (前回ダウンロード済みのためスキップ)"
   ]
  },
  {
   "cell_type": "markdown",
   "id": "3ea1c51f-947e-49aa-a71f-9ab3185e06fa",
   "metadata": {},
   "source": [
    "以下のデータがダウンロード済みです"
   ]
  },
  {
   "cell_type": "markdown",
   "id": "94c44667-eeb0-4acd-b5ea-5039e225129f",
   "metadata": {
    "tags": []
   },
   "source": [
    "| ファイル名 | 件数 | データセット | 備考 |\n",
    "| --- | --- | --- | --- |\n",
    "| rakuten-1000-2022-2023.xlsx.zip | 10,000 | •レジャー+ビジネスの 10エリア<br>•エリアごと 1,000件 (ランダムサンプリング)<br>•期間: 2022/1~2023 GW明け | 本講義の全体を通して使用する |"
   ]
  },
  {
   "cell_type": "code",
   "execution_count": null,
   "id": "614d4536-de4f-4cd7-b6ce-e1ed5e60bd45",
   "metadata": {
    "tags": []
   },
   "outputs": [],
   "source": [
    "# もし、再度ダウンロードが必要な場合は残りの行のコメントマーク「#」を除去して、このセルを再実行してください\n",
    "\n",
    "# FILE_ID = \"1n-uvGoH7XQhxexN57hYXuFrkGeHKp-HV\"\n",
    "# !gdown --id {FILE_ID}\n",
    "# !unzip rakuten-1000-2022-2023.xlsx.zip"
   ]
  },
  {
   "cell_type": "markdown",
   "id": "bc9daa65-996b-4c16-bfc6-5e8de843291c",
   "metadata": {
    "tags": []
   },
   "source": [
    "### 1.2 データの読み込み (DataFrame型)"
   ]
  },
  {
   "cell_type": "code",
   "execution_count": null,
   "id": "71bd612f-4a36-40ef-9685-c4898fafd177",
   "metadata": {
    "tags": []
   },
   "outputs": [],
   "source": [
    "import numpy as np\n",
    "import pandas as pd\n",
    "\n",
    "all_df = pd.read_excel(\"rakuten-1000-2022-2023.xlsx\")\n",
    "print(all_df.shape)\n",
    "display(all_df.head())"
   ]
  },
  {
   "cell_type": "markdown",
   "id": "45dc5bee-fefd-4fe5-98e2-eee3d7965ab3",
   "metadata": {},
   "source": [
    "### 1.3 「文書-抽出語」表 を作成する"
   ]
  },
  {
   "cell_type": "markdown",
   "id": "a217a28a-284e-41a1-b981-ff59d3ed3a36",
   "metadata": {},
   "source": [
    "コメント列から単語を抽出する (単語を品詞「名詞」「形容詞」「未知語」で絞り込む)"
   ]
  },
  {
   "cell_type": "code",
   "execution_count": null,
   "id": "2849575f-a94e-4805-b411-cdfc7d76dcc7",
   "metadata": {
    "tags": []
   },
   "outputs": [],
   "source": [
    "from collections import defaultdict\n",
    "import MeCab\n",
    "\n",
    "tagger = MeCab.Tagger(\"-r ../tools/usr/local/etc/mecabrc --unk-feature 未知語\")\n",
    "\n",
    "word_counts = defaultdict(lambda: 0)\n",
    "words = []\n",
    "\n",
    "ZEN = \"\".join(chr(0xff01 + i) for i in range(94))\n",
    "HAN = \"\".join(chr(0x21 + i) for i in range(94))\n",
    "HAN2ZEN = str.maketrans(HAN, ZEN)\n",
    "\n",
    "# stopwords = ['する', 'ある', 'ない', 'いう', 'もの', 'こと', 'よう', 'なる', 'ほう']\n",
    "stopwords = [\"湯畑\"]\n",
    "\n",
    "for index, row in all_df.iterrows():\n",
    "    node = tagger.parseToNode(row[\"コメント\"].translate(HAN2ZEN))\n",
    "    while node:\n",
    "        features = node.feature.split(',')\n",
    "        pos1 = features[0]\n",
    "        pos2 = features[1] if len(features) > 1 else \"\"\n",
    "        base = features[6] if len(features) > 6 else None\n",
    "\n",
    "        if base not in stopwords:\n",
    "\n",
    "            if (pos1 == \"名詞\" and pos2 == \"一般\"):\n",
    "                base = base if base is not None else node.surface\n",
    "                postag = \"名詞\"\n",
    "                key = (base, postag)\n",
    "                word_counts[key] += 1\n",
    "                words.append([index + 1, base, postag, row[\"カテゴリー\"], row[\"エリア\"], key])\n",
    "\n",
    "            elif (pos1 == \"名詞\" and pos2 == \"形容動詞語幹\"):\n",
    "                base = base if base is not None else node.surface\n",
    "                base = f\"{base}だ\"\n",
    "                postag = \"形容動詞\"\n",
    "                key = (base, postag)\n",
    "                word_counts[key] += 1\n",
    "                words.append([index + 1, base, postag, row[\"カテゴリー\"], row[\"エリア\"], key])\n",
    "\n",
    "            elif pos1 == \"形容詞\":\n",
    "                base = base if base is not None else node.surface\n",
    "                postag = \"形容詞\"\n",
    "                key = (base, postag)\n",
    "                word_counts[key] += 1\n",
    "                words.append([index + 1, base, postag, row[\"カテゴリー\"], row[\"エリア\"], key])\n",
    "\n",
    "            elif pos1 == \"未知語\":\n",
    "                base = base if base is not None else node.surface\n",
    "                postag = \"未知語\"\n",
    "                key = (base, postag)\n",
    "                word_counts[key] += 1\n",
    "                words.append([index + 1, base, postag, row[\"カテゴリー\"], row[\"エリア\"], key])\n",
    "\n",
    "        node = node.next\n",
    "\n",
    "columns = [\n",
    "    \"文書ID\",\n",
    "    # \"単語ID\",\n",
    "    \"表層\",\n",
    "    \"品詞\",\n",
    "    \"カテゴリー\",\n",
    "    \"エリア\",\n",
    "    \"dict_key\",\n",
    "]\n",
    "docs_df = pd.DataFrame(words, columns=columns)\n",
    "print(docs_df.shape)\n",
    "display(docs_df.head())"
   ]
  },
  {
   "cell_type": "markdown",
   "id": "e9a03c6f-1a67-4e96-a78f-ec471d4098d5",
   "metadata": {},
   "source": [
    "抽出語の出現頻度をカウントする"
   ]
  },
  {
   "cell_type": "code",
   "execution_count": null,
   "id": "ca5bed21-5e42-4f00-8bc9-32ed5b0a5a50",
   "metadata": {
    "tags": []
   },
   "outputs": [],
   "source": [
    "word_list = []\n",
    "for i, (k, v) in enumerate(sorted(word_counts.items(), key=lambda x:x[1], reverse=True)):\n",
    "    word_list.append((i, k[0], v, k))\n",
    "\n",
    "columns = [\n",
    "    \"単語ID\",\n",
    "    \"表層\",\n",
    "    \"出現頻度\",\n",
    "    \"dict_key\"\n",
    "]\n",
    "word_counts_df = pd.DataFrame(word_list, columns=columns)\n",
    "print(word_counts_df.shape)\n",
    "display(word_counts_df.head(10))"
   ]
  },
  {
   "cell_type": "markdown",
   "id": "bb7146cc",
   "metadata": {},
   "source": [
    "単語IDを紐つける (出現回数 Top 150語のみ抽出する)"
   ]
  },
  {
   "cell_type": "code",
   "execution_count": null,
   "id": "9127684b-da31-4a70-ab00-8900f3ffed27",
   "metadata": {
    "tags": []
   },
   "outputs": [],
   "source": [
    "word_counts_150_df = word_counts_df[0:150]\n",
    "merged_df = pd.merge(docs_df, word_counts_150_df, how=\"inner\", on=\"dict_key\", suffixes=[\"\", \"_right\"])\n",
    "docs_150_df = merged_df[[\"文書ID\", \"単語ID\", \"表層\", \"品詞\", \"カテゴリー\", \"エリア\", \"dict_key\"]]\n",
    "print(docs_150_df.shape)\n",
    "display(docs_150_df)"
   ]
  },
  {
   "cell_type": "markdown",
   "id": "d01f9543",
   "metadata": {},
   "source": [
    "「文書-抽出語」表 を作成する"
   ]
  },
  {
   "cell_type": "code",
   "execution_count": null,
   "id": "6e9780cb",
   "metadata": {},
   "outputs": [],
   "source": [
    "word_counts_75_df = word_counts_df[0:75]\n",
    "merged_df = pd.merge(docs_df, word_counts_75_df, how=\"inner\", on=\"dict_key\", suffixes=[\"\", \"_right\"])\n",
    "docs_75_df = merged_df[[\"文書ID\", \"単語ID\", \"表層\", \"品詞\", \"カテゴリー\", \"エリア\", \"dict_key\"]]\n",
    "\n",
    "cross_75_df = pd.crosstab(\n",
    "    [\n",
    "        docs_75_df['カテゴリー'], \n",
    "        docs_75_df['エリア'], \n",
    "        docs_75_df['文書ID']\n",
    "    ], \n",
    "    docs_75_df['単語ID'], margins=False\n",
    ")\n",
    "cross_75_df.columns = word_counts_75_df[\"表層\"]\n",
    "print(cross_75_df.shape)\n",
    "display(cross_75_df)"
   ]
  },
  {
   "cell_type": "markdown",
   "id": "40a21bd7",
   "metadata": {},
   "source": [
    "「文書-抽出語」 表を {0,1} に変換する"
   ]
  },
  {
   "cell_type": "code",
   "execution_count": null,
   "id": "97f09b08",
   "metadata": {},
   "outputs": [],
   "source": [
    "cross_75_df[cross_75_df > 0] = 1\n",
    "print(cross_75_df.shape)\n",
    "display(cross_75_df)"
   ]
  },
  {
   "cell_type": "markdown",
   "id": "fe8c38df",
   "metadata": {},
   "source": [
    "### 1.4 共起ネットワーク"
   ]
  },
  {
   "cell_type": "markdown",
   "id": "a7e9fcf4",
   "metadata": {},
   "source": [
    "共起度行列を作成する (抽出語-抽出語)"
   ]
  },
  {
   "cell_type": "code",
   "execution_count": null,
   "id": "240ebe1d",
   "metadata": {},
   "outputs": [],
   "source": [
    "from scipy.sparse import csc_matrix\n",
    "\n",
    "X = cross_75_df.values\n",
    "X = csc_matrix(X)\n",
    "Xc = (X.T * X)\n",
    "Xc = np.triu(Xc.toarray())\n",
    "\n",
    "cooccur_75_df = pd.DataFrame(Xc, columns=cross_75_df.columns, index=cross_75_df.columns)\n",
    "print(cooccur_75_df.shape)\n",
    "display(cooccur_75_df.head())"
   ]
  },
  {
   "cell_type": "markdown",
   "id": "fc4e70e5",
   "metadata": {},
   "source": [
    "#### (a) 共起ネットワーク (共起度の高いエッジを残す)"
   ]
  },
  {
   "cell_type": "code",
   "execution_count": null,
   "id": "eaa653d7",
   "metadata": {},
   "outputs": [],
   "source": [
    "word_counts = cross_75_df.sum(axis=0).values\n",
    "plot_cooccur_network(cooccur_75_df, word_counts, cooccur_75_df.values.max() * 0.05)"
   ]
  },
  {
   "cell_type": "markdown",
   "id": "50c11eab",
   "metadata": {},
   "source": [
    "#### (b) 共起ネットワーク (Jaccard 係数が上位のエッジを残す)"
   ]
  },
  {
   "cell_type": "code",
   "execution_count": null,
   "id": "266589c4",
   "metadata": {},
   "outputs": [],
   "source": [
    "jaccard_75_df = jaccard_coef(cooccur_75_df, cross_75_df)\n",
    "\n",
    "word_counts = cross_75_df.sum(axis=0).values\n",
    "plot_cooccur_network(jaccard_75_df, word_counts, np.sort(jaccard_75_df.values.reshape(-1))[::-1][60])"
   ]
  },
  {
   "cell_type": "markdown",
   "id": "416e8170",
   "metadata": {},
   "source": [
    "### 1.5 対応分析"
   ]
  },
  {
   "cell_type": "markdown",
   "id": "9a3cbebf-a89c-4685-9d79-db4ffe6ad50d",
   "metadata": {},
   "source": [
    "「文書-抽出語」 表を確認する"
   ]
  },
  {
   "cell_type": "code",
   "execution_count": null,
   "id": "24ab4af0",
   "metadata": {},
   "outputs": [],
   "source": [
    "print(cross_75_df.shape)\n",
    "display(cross_75_df.head())"
   ]
  },
  {
   "cell_type": "markdown",
   "id": "359c8727",
   "metadata": {},
   "source": [
    "「外部変数-抽出語」 クロス集計表を作成する"
   ]
  },
  {
   "cell_type": "code",
   "execution_count": null,
   "id": "3fb120f3",
   "metadata": {},
   "outputs": [],
   "source": [
    "aggregate_75_df = pd.concat([\n",
    "    cross_75_df.groupby(level='カテゴリー').sum(), \n",
    "    cross_75_df.groupby(level='エリア').sum()\n",
    "    ])\n",
    "print(aggregate_75_df.shape)\n",
    "display(aggregate_75_df)"
   ]
  },
  {
   "cell_type": "markdown",
   "id": "72377b8a",
   "metadata": {},
   "source": [
    "#### (a) 対応分析プロット (ライブラリ mca を使用)"
   ]
  },
  {
   "cell_type": "code",
   "execution_count": null,
   "id": "210fb35e",
   "metadata": {},
   "outputs": [],
   "source": [
    "import mca\n",
    "\n",
    "ncols = aggregate_75_df.shape[1]\n",
    "mca_ben = mca.MCA(aggregate_75_df, ncols=ncols, benzecri=False)\n",
    "row_coord = mca_ben.fs_r(N=2)\n",
    "col_coord = mca_ben.fs_c(N=2)\n",
    "\n",
    "eigenvalues = mca_ben.L\n",
    "total = np.sum(eigenvalues)\n",
    "explained_inertia = 100 * eigenvalues / total\n",
    "\n",
    "row_labels = aggregate_75_df.index\n",
    "col_labels = aggregate_75_df.columns\n",
    "plot_coresp(row_coord, col_coord,row_labels, col_labels, explained_inertia)"
   ]
  },
  {
   "cell_type": "markdown",
   "id": "9326f895",
   "metadata": {},
   "source": [
    "#### (b) 対応分析プロット (カイ2乗値を手計算してプロットする)"
   ]
  },
  {
   "cell_type": "code",
   "execution_count": null,
   "id": "4e80e27b",
   "metadata": {},
   "outputs": [],
   "source": [
    "table_N = aggregate_75_df.values\n",
    "row_sum = table_N.sum(axis=1)\n",
    "col_sum = table_N.sum(axis=0)\n",
    "n = aggregate_75_df.values.sum()\n",
    "\n",
    "expected = np.outer(row_sum, col_sum) / n\n",
    "chisq = np.square(table_N - expected) / expected\n",
    "residuals = (table_N - expected) / np.sqrt(expected)\n",
    "\n",
    "# Standardized residuals\n",
    "residuals = residuals / np.sqrt(n)\n",
    "\n",
    "# Number of dimensions\n",
    "nb_axes = min(residuals.shape[0]-1, residuals.shape[1]-1)\n",
    "\n",
    "# Singular value decomposition\n",
    "U, s, V = np.linalg.svd(residuals, full_matrices=True)\n",
    "sv = s[:nb_axes]\n",
    "u = U[:, :nb_axes]\n",
    "v = V[:nb_axes, :]\n",
    "\n",
    "# row mass\n",
    "row_mass = row_sum / n\n",
    "\n",
    "# row coord = u * sv /sqrt(row.mass)\n",
    "row_coord = (u * sv) / np.sqrt(row_mass)[:, np.newaxis]\n",
    "\n",
    "# col mass\n",
    "col_mass = col_sum / n\n",
    "\n",
    "# row coord = sv * vT /sqrt(col.mass)\n",
    "col_coord = (sv * v.T) / np.sqrt(col_mass)[:, np.newaxis]\n",
    "\n",
    "# eige nvalue\n",
    "eige_nvalue = s ** 2\n",
    "\n",
    "# contribution rate \n",
    "explained_inertia = 100 * eige_nvalue / sum(eige_nvalue)\n",
    "\n",
    "row_labels = aggregate_75_df.index\n",
    "col_labels = aggregate_75_df.columns\n",
    "plot_coresp(row_coord, col_coord,row_labels, col_labels, explained_inertia)"
   ]
  },
  {
   "cell_type": "markdown",
   "id": "6e510d6f",
   "metadata": {},
   "source": [
    "#### (c) 対応分析プロット (共起頻度のままプロットする)"
   ]
  },
  {
   "cell_type": "code",
   "execution_count": null,
   "id": "1b936d1e",
   "metadata": {},
   "outputs": [],
   "source": [
    "import numpy as np\n",
    "\n",
    "table_N = aggregate_75_df.values\n",
    "table_P = table_N / aggregate_75_df.values.max()\n",
    "\n",
    "# Singular value decomposition\n",
    "U, s, V = np.linalg.svd(table_P, full_matrices=True)\n",
    "sv = s[:nb_axes]\n",
    "u = U[:, :nb_axes]\n",
    "v = V[:nb_axes, :]\n",
    "\n",
    "# row mass\n",
    "row_mass = row_sum / n\n",
    "\n",
    "# row coord = u * sv /sqrt(row.mass)\n",
    "row_coord = (u * sv) / np.sqrt(row_mass)[:, np.newaxis]\n",
    "\n",
    "# col mass\n",
    "col_mass = col_sum / n\n",
    "\n",
    "# row coord = sv * vT /sqrt(col.mass)\n",
    "col_coord = (sv * v.T) / np.sqrt(col_mass)[:, np.newaxis]\n",
    "\n",
    "# eige nvalue\n",
    "eige_nvalue = s ** 2\n",
    "\n",
    "# contribution rate \n",
    "explained_inertia = 100 * eige_nvalue / sum(eige_nvalue)\n",
    "\n",
    "row_labels = aggregate_75_df.index\n",
    "col_labels = aggregate_75_df.columns\n",
    "plot_coresp(row_coord, col_coord,row_labels, col_labels, explained_inertia)"
   ]
  },
  {
   "cell_type": "markdown",
   "id": "837c3997",
   "metadata": {},
   "source": [
    "#### (d) PCAプロット (共起頻度のままプロットする)"
   ]
  },
  {
   "cell_type": "code",
   "execution_count": null,
   "id": "4881ce32",
   "metadata": {},
   "outputs": [],
   "source": [
    "from sklearn.decomposition import PCA\n",
    "\n",
    "table_N = aggregate_75_df.values\n",
    "\n",
    "pca = PCA()\n",
    "\n",
    "reduced = pca.fit_transform(table_N.T)\n",
    "coeff = np.transpose(pca.components_)\n",
    "var_ratio = pca.explained_variance_ratio_\n",
    "\n",
    "scalex = 1.0 / (reduced[:,0].max() - reduced[:,0].min())\n",
    "scaley = 1.0 / (reduced[:,1].max() - reduced[:,1].min())\n",
    "reduced[:,0] *= scalex\n",
    "reduced[:,1] *= scaley\n",
    "\n",
    "plot_pca(coeff, reduced, row_labels, col_labels, var_ratio)"
   ]
  },
  {
   "cell_type": "markdown",
   "id": "981d3e6d",
   "metadata": {},
   "source": [
    "#### (e) PCAプロット (カイ2乗値をプロットする)"
   ]
  },
  {
   "cell_type": "code",
   "execution_count": null,
   "id": "660c62be",
   "metadata": {},
   "outputs": [],
   "source": [
    "from sklearn.decomposition import PCA\n",
    "\n",
    "import numpy as np\n",
    "\n",
    "table_N = aggregate_75_df.values\n",
    "row_sum = table_N.sum(axis=1)\n",
    "col_sum = table_N.sum(axis=0)\n",
    "n = aggregate_75_df.values.sum()\n",
    "\n",
    "expected = np.outer(row_sum, col_sum) / n\n",
    "chisq = np.square(table_N - expected) / expected\n",
    "residuals = (table_N - expected) / np.sqrt(expected)\n",
    "\n",
    "# Standardized residuals\n",
    "residuals = residuals / np.sqrt(n)\n",
    "\n",
    "pca = PCA()\n",
    "\n",
    "reduced = pca.fit_transform(residuals.T)\n",
    "coeff = np.transpose(pca.components_)\n",
    "var_ratio = pca.explained_variance_ratio_\n",
    "\n",
    "scalex = 1.0 / (reduced[:,0].max() - reduced[:,0].min())\n",
    "scaley = 1.0 / (reduced[:,1].max() - reduced[:,1].min())\n",
    "reduced[:,0] *= scalex\n",
    "reduced[:,1] *= scaley\n",
    "\n",
    "plot_pca(coeff, reduced, row_labels, col_labels, var_ratio)"
   ]
  },
  {
   "cell_type": "markdown",
   "id": "75393415-d02b-4c1c-bd74-7ed033bf3c47",
   "metadata": {},
   "source": [
    "---"
   ]
  },
  {
   "cell_type": "markdown",
   "id": "8038e0af-8843-493e-831f-2bceee5b6656",
   "metadata": {},
   "source": [
    "## 2. テキスト分析 (実践編)"
   ]
  },
  {
   "cell_type": "markdown",
   "id": "0f64b92a-3214-456c-a805-7db694411e94",
   "metadata": {},
   "source": [
    "### 2.1 カテゴリーやエリアごとのユーザーの注目ポイントを押さえる"
   ]
  },
  {
   "cell_type": "markdown",
   "id": "ffb8ddee",
   "metadata": {},
   "source": [
    "#### 2.1.1 「文書-抽出語」表の作成"
   ]
  },
  {
   "cell_type": "markdown",
   "id": "d1fbc1ef",
   "metadata": {},
   "source": [
    "「文書-抽出語」表を作成する (出現回数 Top 1000語)"
   ]
  },
  {
   "cell_type": "code",
   "execution_count": null,
   "id": "c90174cc",
   "metadata": {},
   "outputs": [],
   "source": [
    "word_counts_1000_df = word_counts_df[0:1000]\n",
    "merged_df = pd.merge(docs_df, word_counts_1000_df, how=\"inner\", on=\"dict_key\", suffixes=[\"\", \"_right\"])\n",
    "docs_1000_df = merged_df[[\"文書ID\", \"単語ID\", \"表層\", \"品詞\", \"カテゴリー\", \"エリア\", \"dict_key\"]]\n",
    "\n",
    "cross_1000_df = pd.crosstab(\n",
    "    [\n",
    "        docs_1000_df['カテゴリー'], \n",
    "        docs_1000_df['エリア'], \n",
    "        docs_1000_df['文書ID']\n",
    "    ], \n",
    "    docs_1000_df['単語ID'], margins=False\n",
    ")\n",
    "cross_1000_df.columns = word_counts_1000_df[\"表層\"]"
   ]
  },
  {
   "cell_type": "markdown",
   "id": "12a3c855",
   "metadata": {},
   "source": [
    "「文書-抽出語」表を {0,1} に変換する"
   ]
  },
  {
   "cell_type": "code",
   "execution_count": null,
   "id": "dbd950ae",
   "metadata": {},
   "outputs": [],
   "source": [
    "cross_1000_df[cross_1000_df > 0] = 1\n",
    "print(cross_1000_df.shape)\n",
    "display(cross_1000_df)"
   ]
  },
  {
   "cell_type": "markdown",
   "id": "7224c37e",
   "metadata": {},
   "source": [
    "#### 2.1.2 共起行列を作成する (外部変数-抽出語)"
   ]
  },
  {
   "cell_type": "code",
   "execution_count": null,
   "id": "864bfc9d-a5ef-49ad-a1e5-b1f43c9b88e8",
   "metadata": {},
   "outputs": [],
   "source": [
    "aggregate_df = pd.concat(\n",
    "    [\n",
    "        cross_1000_df.groupby(level='カテゴリー').sum(), \n",
    "        cross_1000_df.groupby(level='エリア').sum()\n",
    "    ]\n",
    ")\n",
    "print(aggregate_df.shape)\n",
    "display(aggregate_df)"
   ]
  },
  {
   "cell_type": "markdown",
   "id": "91d95397",
   "metadata": {},
   "source": [
    "#### 2.1.3 Jaccard 係数を求める (外部変数-抽出語)"
   ]
  },
  {
   "cell_type": "code",
   "execution_count": null,
   "id": "7242d6db",
   "metadata": {},
   "outputs": [],
   "source": [
    "word_counts = cross_1000_df.sum(axis=0).values\n",
    "attr_counts = np.hstack(\n",
    "    [\n",
    "        all_df.value_counts('カテゴリー').values,\n",
    "        all_df.value_counts('エリア').values\n",
    "    ]\n",
    ")\n",
    "jaccard_attrs_df = jaccard_attrs_coef(aggregate_df, attr_counts, word_counts, total=10000, conditional=False)\n",
    "print(jaccard_attrs_df.shape)\n",
    "display(jaccard_attrs_df)"
   ]
  },
  {
   "cell_type": "markdown",
   "id": "0d5aa19f",
   "metadata": {},
   "source": [
    "#### 2.1.4 特徴語ランキング"
   ]
  },
  {
   "cell_type": "code",
   "execution_count": null,
   "id": "9ce40e92",
   "metadata": {},
   "outputs": [],
   "source": [
    "df_list = []\n",
    "for index, row in jaccard_attrs_df.iterrows():\n",
    "    df_list.append(row.iloc[np.argsort(row.values)[::-1][:10]].reset_index())\n",
    "\n",
    "ranking_df = pd.DataFrame(pd.concat(df_list, axis=1))\n",
    "ranking_df.columns = np.array([c for pair in [[x,f\"jaccard\"] for x in jaccard_attrs_df.index] for c in pair], dtype='object')\n",
    "display(ranking_df)"
   ]
  },
  {
   "cell_type": "markdown",
   "id": "67fff7a6",
   "metadata": {},
   "source": [
    "#### 2.1.5 ワードクラウド"
   ]
  },
  {
   "cell_type": "code",
   "execution_count": null,
   "id": "57d4eb44",
   "metadata": {},
   "outputs": [],
   "source": [
    "import matplotlib.pyplot as plt\n",
    "%matplotlib inline\n",
    "\n",
    "def sort_and_plot(name, group):\n",
    "    # sort\n",
    "    sorted_columns = np.argsort(jaccard_attrs_df.loc[name].values)[::-1][:75]\n",
    "    group_cross_df = group.iloc[:,sorted_columns]\n",
    "\n",
    "    # plot\n",
    "    ax = fig.add_subplot(4, 3, i+1)\n",
    "    plot_wordcloud_ax(ax, \" \".join(group_cross_df.columns))\n",
    "    ax.set_title(name)\n",
    "\n",
    "\n",
    "fig = plt.figure(figsize=(16, 12))\n",
    "\n",
    "i = 0\n",
    "for name, group in cross_1000_df.groupby(level='カテゴリー'):\n",
    "    sort_and_plot(name, group)\n",
    "    i += 1\n",
    "\n",
    "    for sub_name, sub_group in group.groupby(level='エリア'):\n",
    "        sort_and_plot(sub_name, sub_group)\n",
    "        i += 1\n",
    "\n",
    "plt.tight_layout()\n",
    "plt.show()"
   ]
  },
  {
   "cell_type": "markdown",
   "id": "25a38947",
   "metadata": {},
   "source": [
    "#### 2.1.6 共起ネットワーク図"
   ]
  },
  {
   "cell_type": "code",
   "execution_count": null,
   "id": "638cc3ed",
   "metadata": {},
   "outputs": [],
   "source": [
    "import matplotlib.pyplot as plt\n",
    "%matplotlib inline\n",
    "\n",
    "def sort_and_plot(name, group):\n",
    "    # sort\n",
    "    sorted_columns = np.argsort(jaccard_attrs_df.loc[name].values)[::-1][:75]\n",
    "    group_cross_df = group.iloc[:,sorted_columns]\n",
    "\n",
    "    # plot\n",
    "    X = group_cross_df.values\n",
    "    X = csc_matrix(X)\n",
    "    Xc = (X.T * X)\n",
    "    Xc = np.triu(Xc.toarray())\n",
    "\n",
    "    group_cooccur_df = pd.DataFrame(Xc, columns=group_cross_df.columns, index=group_cross_df.columns)\n",
    "    group_jaccard_df = jaccard_coef(group_cooccur_df, group_cross_df)\n",
    "\n",
    "    word_counts = group_cross_df.sum(axis=0).values\n",
    "\n",
    "    ax = fig.add_subplot(4, 3, i+1)\n",
    "    plot_cooccur_network_ax(ax, group_jaccard_df, word_counts, np.sort(group_jaccard_df.values.reshape(-1))[::-1][60])\n",
    "    ax.set_title(name)\n",
    "\n",
    "\n",
    "fig = plt.figure(figsize=(20, 28))\n",
    "\n",
    "i = 0\n",
    "for name, group in cross_1000_df.groupby(level='カテゴリー'):\n",
    "    sort_and_plot(name, group)\n",
    "    i += 1\n",
    "\n",
    "    for sub_name, sub_group in group.groupby(level='エリア'):\n",
    "        sort_and_plot(sub_name, sub_group)\n",
    "        i += 1\n",
    "\n",
    "plt.tight_layout()\n",
    "plt.show()"
   ]
  }
 ],
 "metadata": {
  "kernelspec": {
   "display_name": "gssm2023:Python",
   "language": "python",
   "name": "conda-env-gssm2023-py"
  },
  "language_info": {
   "codemirror_mode": {
    "name": "ipython",
    "version": 3
   },
   "file_extension": ".py",
   "mimetype": "text/x-python",
   "name": "python",
   "nbconvert_exporter": "python",
   "pygments_lexer": "ipython3",
   "version": "3.11.3"
  },
  "toc-autonumbering": false
 },
 "nbformat": 4,
 "nbformat_minor": 5
}
