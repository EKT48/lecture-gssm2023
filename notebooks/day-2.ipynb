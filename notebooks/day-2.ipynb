{
 "cells": [
  {
   "attachments": {},
   "cell_type": "markdown",
   "id": "ca6f6ed6-79e9-4efc-836a-040000ce8c89",
   "metadata": {
    "tags": []
   },
   "source": [
    "# day 2\n",
    "\n",
    "---"
   ]
  },
  {
   "attachments": {},
   "cell_type": "markdown",
   "id": "f7a6b606-a68d-43e6-bc43-598ce32032cc",
   "metadata": {},
   "source": [
    "## 1. SageMaker Studio Lab の使い方\n",
    "\n",
    "> 引用元: ''Getting Started with Amazon SageMaker Studio Lab''"
   ]
  },
  {
   "attachments": {},
   "cell_type": "markdown",
   "id": "f5315532",
   "metadata": {},
   "source": [
    "### 1.1 SageMaker Studio Lab とは"
   ]
  },
  {
   "attachments": {},
   "cell_type": "markdown",
   "id": "fd6ea658-93e2-4901-9ce5-7db00e7f9f44",
   "metadata": {},
   "source": [
    "SageMaker Studio Lab は、15GBの永続的なストレージとCPUまたはGPUランタイムにアクセスできるノートブック開発環境です。プロジェクトに関するすべてのもの(ノートブック、ソースコードファイル、データセット、クローンした Git リポジトリ、Conda 環境、JupyterLab 拡張機能など)は自動的に保存されるので、プロジェクトを起動するたびに、中断した場所から再開することができます。SageMaker Studio LabはオープンソースのJupyterLab をベースにしているため、プロジェクトでオープンソースのJupyter拡張機能を利用することができます。"
   ]
  },
  {
   "attachments": {},
   "cell_type": "markdown",
   "id": "64b5e9bd-abca-4f7f-9a92-889edf4a218d",
   "metadata": {},
   "source": [
    "### 1.1 Python コードを実行する"
   ]
  },
  {
   "attachments": {},
   "cell_type": "markdown",
   "id": "d24aa6e0-8b62-412a-a318-f89d71a51bbd",
   "metadata": {},
   "source": [
    "このドキュメントは、[Jupyter notebook](https://jupyter.org/)です。ノートブックでは、ライブコード、数式、Markdown、画像、視覚化、その他のコンテンツを1つのドキュメントにまとめ、他の人と共有することができます。\n",
    "\n",
    "以下のPythonコードを実行するには、セルをクリックして選択し、キーボードで`Shift-Enter`を入力するか、ドキュメントの上部にあるノートブックツールバーの再生ボタンをクリックします。"
   ]
  },
  {
   "cell_type": "code",
   "execution_count": 1,
   "id": "87a80480-cf35-4fc1-a403-25a83fe17f44",
   "metadata": {
    "tags": []
   },
   "outputs": [
    {
     "name": "stdout",
     "output_type": "stream",
     "text": [
      "10 20 30\n"
     ]
    }
   ],
   "source": [
    "a = 10\n",
    "b = 20\n",
    "c = a + b\n",
    "print(a, b, c)"
   ]
  },
  {
   "attachments": {},
   "cell_type": "markdown",
   "id": "92896163-cda2-4935-a1ea-14e2892734aa",
   "metadata": {},
   "source": [
    "Pythonについて詳しく知りたい方は、[Python早見表](https://chokkan.github.io/python/)などが参考になります。"
   ]
  },
  {
   "attachments": {},
   "cell_type": "markdown",
   "id": "65a34fd6-c902-442a-982f-9721f3855d36",
   "metadata": {
    "tags": []
   },
   "source": [
    "### 1.2 基本操作\n",
    "\n",
    "ノートブックの作成、ソースコードファイルの作成、ターミナルへのアクセス"
   ]
  },
  {
   "attachments": {},
   "cell_type": "markdown",
   "id": "45bfc279-5fbf-4337-ae47-27ba8800ace8",
   "metadata": {},
   "source": [
    "SageMaker Studio Lab では、ノートブックの作成、ソースコードファイルの作成、内蔵ターミナルへのアクセスが可能です。左パネルのファイルブラウザの上部にある「+」ボタンをクリックしてLauncherを開くことで行えます:\n",
    "\n",
    "![ランチャーボタン](images/launcher_button.png)"
   ]
  },
  {
   "attachments": {},
   "cell_type": "markdown",
   "id": "8940e135-cebe-406f-8a06-5e4e80b1f29d",
   "metadata": {},
   "source": [
    "作成したノートブック、ファイル、データセットはすべて永続的なプロジェクトディレクトリに保存され、プロジェクトを開くと利用できるようになります。ヘルプを入手したり、ドキュメントにアクセスするには、ページ上部のメニューバーにある **Help** メニューをクリックします。"
   ]
  },
  {
   "attachments": {},
   "cell_type": "markdown",
   "id": "3c9dc584-12c6-488f-9bcc-d67b4c61931f",
   "metadata": {},
   "source": [
    "ランチャーには、さまざまな環境でノートブックを起動したり、ソースコードファイルを作成したり、ターミナルにアクセスしたりするためのカードが用意されています:\n",
    "\n",
    "![Launcher Cards](images/launcher_cards.png)"
   ]
  },
  {
   "attachments": {},
   "cell_type": "markdown",
   "id": "5c4f2ca5-7239-4ea6-822a-896896082d3f",
   "metadata": {},
   "source": [
    "### 1.2 Python パッケージをインストールするには"
   ]
  },
  {
   "attachments": {},
   "cell_type": "markdown",
   "id": "a7bd626a-45dd-4778-87e3-729c3b5d9953",
   "metadata": {},
   "source": [
    "Pythonのパッケージは、他のプログラムから再利用できるようにPythonのコードをまとめたファイルです. Pythonのパッケージをインストールする最も簡単な方法は、ノートブックのコードセルで次のいずれかのマジックコマンドを使用することです:\n",
    "\n",
    "`%conda install <package>`\n",
    "\n",
    "`%pip install <package>`\n",
    "\n",
    "これらのコマンドは、常にノートブックで使用されている環境にパッケージをインストールし、インストールしたパッケージは、永続的なプロジェクトディレクトリに保存されます。注意: `!pip` or `!conda` を使うことはお勧めしません。複数の環境がある場合、これらのコマンドは予期せぬ動作をすることがあるためです。(Jypyter notebookでは`%`で始まるコマンドを「マジックコマンド」と呼びます)\n",
    "\n",
    "以下は、このノートブックで使用する環境に **NumPy** と呼ばれるパッケージをインストールする方法を示す例です:"
   ]
  },
  {
   "cell_type": "code",
   "execution_count": 2,
   "id": "deef862e-c4d4-494a-9736-494aaaafb981",
   "metadata": {},
   "outputs": [
    {
     "name": "stdout",
     "output_type": "stream",
     "text": [
      "Collecting package metadata (current_repodata.json): done\n",
      "Solving environment: done\n",
      "\n",
      "\n",
      "==> WARNING: A newer version of conda exists. <==\n",
      "  current version: 4.10.3\n",
      "  latest version: 23.5.0\n",
      "\n",
      "Please update conda by running\n",
      "\n",
      "    $ conda update -n base conda\n",
      "\n",
      "\n",
      "\n",
      "## Package Plan ##\n",
      "\n",
      "  environment location: /home/studio-lab-user/.conda/envs/gssm2023\n",
      "\n",
      "  added / updated specs:\n",
      "    - numpy\n",
      "\n",
      "\n",
      "The following packages will be downloaded:\n",
      "\n",
      "    package                    |            build\n",
      "    ---------------------------|-----------------\n",
      "    ca-certificates-2023.5.7   |       hbcca054_0         145 KB  conda-forge\n",
      "    certifi-2023.5.7           |     pyhd8ed1ab_0         149 KB  conda-forge\n",
      "    ------------------------------------------------------------\n",
      "                                           Total:         294 KB\n",
      "\n",
      "The following packages will be UPDATED:\n",
      "\n",
      "  ca-certificates    pkgs/main::ca-certificates-2023.01.10~ --> conda-forge::ca-certificates-2023.5.7-hbcca054_0\n",
      "\n",
      "The following packages will be SUPERSEDED by a higher-priority channel:\n",
      "\n",
      "  certifi            pkgs/main/linux-64::certifi-2023.5.7-~ --> conda-forge/noarch::certifi-2023.5.7-pyhd8ed1ab_0\n",
      "\n",
      "\n",
      "\n",
      "Downloading and Extracting Packages\n",
      "certifi-2023.5.7     | 149 KB    | ##################################### | 100% \n",
      "ca-certificates-2023 | 145 KB    | ##################################### | 100% \n",
      "Preparing transaction: done\n",
      "Verifying transaction: done\n",
      "Executing transaction: done\n",
      "\n",
      "Note: you may need to restart the kernel to use updated packages.\n"
     ]
    }
   ],
   "source": [
    "%conda install numpy"
   ]
  },
  {
   "attachments": {},
   "cell_type": "markdown",
   "id": "68523e64-73a1-4193-8b52-259921400437",
   "metadata": {},
   "source": [
    "これで **NumPy** が使えるようになりました:"
   ]
  },
  {
   "cell_type": "code",
   "execution_count": 3,
   "id": "d4086851-d2ed-4def-99a3-31f1ceee71df",
   "metadata": {
    "tags": []
   },
   "outputs": [
    {
     "data": {
      "text/plain": [
       "array([0.83870571, 0.35177248, 0.32760409, 0.80470298, 0.31102567,\n",
       "       0.91204229, 0.75892251, 0.75008716, 0.56089786, 0.86074976])"
      ]
     },
     "execution_count": 3,
     "metadata": {},
     "output_type": "execute_result"
    }
   ],
   "source": [
    "import numpy as np\n",
    "np.random.rand(10)"
   ]
  },
  {
   "attachments": {},
   "cell_type": "markdown",
   "id": "a1172abf-4034-4b49-a907-58096e29489c",
   "metadata": {},
   "source": [
    "### (参考) SageMaker Studio Lab のサンプルノートブック"
   ]
  },
  {
   "attachments": {},
   "cell_type": "markdown",
   "id": "2f518443",
   "metadata": {},
   "source": [
    "#### Python早見表\n",
    "\n",
    "[Python早見表](https://chokkan.github.io/python/)は、東京工業大学の岡崎直観先生が作成された Python の入門教材です。プログラムと実行例をカタログ的に提示しながら、Pythonの言語仕様やライブラリを紹介しています。Pythonの基礎を素早く習得したり、ライブラリやオブジェクトの使い方を確認することができます。教材にある以下のボタンをクリクすることで、SageMaker上にノートブックを開くことができます。\n",
    "\n",
    "![Open In SageMaker Studio Lab](https://studiolab.sagemaker.aws/studiolab.svg)"
   ]
  },
  {
   "attachments": {},
   "cell_type": "markdown",
   "id": "a3cf2268",
   "metadata": {},
   "source": [
    "---"
   ]
  },
  {
   "attachments": {},
   "cell_type": "markdown",
   "id": "b6c23f64",
   "metadata": {},
   "source": [
    "## 2. 環境構築"
   ]
  },
  {
   "attachments": {},
   "cell_type": "markdown",
   "id": "f7e6cb6f",
   "metadata": {},
   "source": [
    "### 2.1 MeCab のインストール (目安:約3分)"
   ]
  },
  {
   "cell_type": "code",
   "execution_count": 9,
   "id": "30202422-8b99-4dc3-81cc-9381622fde42",
   "metadata": {
    "tags": []
   },
   "outputs": [
    {
     "name": "stdout",
     "output_type": "stream",
     "text": [
      "Successfully installed mecab-python-0.996\n"
     ]
    }
   ],
   "source": [
    "!bash ../scripts/install_mecab.sh > install_mecab.log 2>&1\n",
    "!tail -n 1 install_mecab.log"
   ]
  },
  {
   "attachments": {},
   "cell_type": "markdown",
   "id": "b323962b",
   "metadata": {},
   "source": [
    "`Successfully installed mecab-python-0.996` と表示されれば、インストール成功です。"
   ]
  },
  {
   "attachments": {},
   "cell_type": "markdown",
   "id": "a9db654b-9e28-4627-93ed-7b5c52365333",
   "metadata": {
    "tags": []
   },
   "source": [
    "### 2.2 CaboCha のインストール (目安:約5分)"
   ]
  },
  {
   "cell_type": "code",
   "execution_count": 10,
   "id": "4e308382-8003-4dbb-bfd1-0961b857f65d",
   "metadata": {
    "tags": []
   },
   "outputs": [
    {
     "name": "stdout",
     "output_type": "stream",
     "text": [
      "Successfully installed cabocha-python-0.69\n"
     ]
    }
   ],
   "source": [
    "!bash ../scripts/install_cabocha.sh > install_cabocha.log 2>&1\n",
    "!tail -n 1 install_cabocha.log"
   ]
  },
  {
   "attachments": {},
   "cell_type": "markdown",
   "id": "e55ba650",
   "metadata": {},
   "source": [
    "`Successfully installed cabocha-python-0.69` と表示されれば、インストール成功です。"
   ]
  },
  {
   "attachments": {},
   "cell_type": "markdown",
   "id": "cc7ee22b-7645-4303-93aa-1e823525e832",
   "metadata": {},
   "source": [
    "### 2.3 Kernel のリスタート"
   ]
  },
  {
   "attachments": {},
   "cell_type": "markdown",
   "id": "42ee393e",
   "metadata": {},
   "source": [
    "ページ上部のメニューバーにある **Kernel** メニューをクリックし、プルダウンメニューから [**Restart Kernel ...**] を選択してください。\n",
    "\n",
    "<img src=\"images/restart_kernel.png\" width=\"60%\">"
   ]
  },
  {
   "attachments": {},
   "cell_type": "markdown",
   "id": "6aa19ed6-f659-48c3-95e7-88e890a7dd2f",
   "metadata": {},
   "source": [
    "---"
   ]
  },
  {
   "attachments": {},
   "cell_type": "markdown",
   "id": "d62a17a1-dada-42e1-b478-6c94e7aaeb3d",
   "metadata": {},
   "source": [
    "## 3. 形態素解析"
   ]
  },
  {
   "attachments": {},
   "cell_type": "markdown",
   "id": "2a7fe581-4fbd-4f7c-9706-a3d089c45145",
   "metadata": {},
   "source": [
    "### 3.1 MeCab を使う"
   ]
  },
  {
   "attachments": {},
   "cell_type": "markdown",
   "id": "001a05cc-ca14-405c-a158-4352ef8f47ae",
   "metadata": {},
   "source": [
    "#### (1) そのまま出力してみる"
   ]
  },
  {
   "cell_type": "code",
   "execution_count": 1,
   "id": "ac900f64-fc14-4522-bf30-1b3dcb816ad7",
   "metadata": {
    "tags": []
   },
   "outputs": [
    {
     "name": "stdout",
     "output_type": "stream",
     "text": [
      "今日\t名詞,副詞可能,*,*,*,*,今日,キョウ,キョー\n",
      "は\t助詞,係助詞,*,*,*,*,は,ハ,ワ\n",
      "いい\t形容詞,自立,*,*,形容詞・イイ,基本形,いい,イイ,イイ\n",
      "天気\t名詞,一般,*,*,*,*,天気,テンキ,テンキ\n",
      "です\t助動詞,*,*,*,特殊・デス,基本形,です,デス,デス\n",
      "EOS\n",
      "\n"
     ]
    }
   ],
   "source": [
    "import MeCab\n",
    "\n",
    "tagger = MeCab.Tagger(\"-r ../tools/usr/local/etc/mecabrc\")\n",
    "print(tagger.parse(\"今日はいい天気です\"))"
   ]
  },
  {
   "attachments": {},
   "cell_type": "markdown",
   "id": "213babc9-e16b-4ac2-b542-5405927c6f82",
   "metadata": {},
   "source": [
    "#### (2) 扱いやすいように Pandas の DataFrame に格納する"
   ]
  },
  {
   "cell_type": "code",
   "execution_count": 2,
   "id": "7f8f050b-91c7-471a-9236-366f4c1a7cb9",
   "metadata": {
    "tags": []
   },
   "outputs": [
    {
     "data": {
      "text/html": [
       "<div>\n",
       "<style scoped>\n",
       "    .dataframe tbody tr th:only-of-type {\n",
       "        vertical-align: middle;\n",
       "    }\n",
       "\n",
       "    .dataframe tbody tr th {\n",
       "        vertical-align: top;\n",
       "    }\n",
       "\n",
       "    .dataframe thead th {\n",
       "        text-align: right;\n",
       "    }\n",
       "</style>\n",
       "<table border=\"1\" class=\"dataframe\">\n",
       "  <thead>\n",
       "    <tr style=\"text-align: right;\">\n",
       "      <th></th>\n",
       "      <th>品詞</th>\n",
       "      <th>品詞細分類1</th>\n",
       "      <th>品詞細分類2</th>\n",
       "      <th>品詞細分類3</th>\n",
       "      <th>活用型</th>\n",
       "      <th>活用形</th>\n",
       "      <th>基本形</th>\n",
       "      <th>読み</th>\n",
       "      <th>発音</th>\n",
       "    </tr>\n",
       "  </thead>\n",
       "  <tbody>\n",
       "    <tr>\n",
       "      <th>0</th>\n",
       "      <td>BOS/EOS</td>\n",
       "      <td>*</td>\n",
       "      <td>*</td>\n",
       "      <td>*</td>\n",
       "      <td>*</td>\n",
       "      <td>*</td>\n",
       "      <td>*</td>\n",
       "      <td>*</td>\n",
       "      <td>*</td>\n",
       "    </tr>\n",
       "    <tr>\n",
       "      <th>1</th>\n",
       "      <td>名詞</td>\n",
       "      <td>副詞可能</td>\n",
       "      <td>*</td>\n",
       "      <td>*</td>\n",
       "      <td>*</td>\n",
       "      <td>*</td>\n",
       "      <td>今日</td>\n",
       "      <td>キョウ</td>\n",
       "      <td>キョー</td>\n",
       "    </tr>\n",
       "    <tr>\n",
       "      <th>2</th>\n",
       "      <td>助詞</td>\n",
       "      <td>係助詞</td>\n",
       "      <td>*</td>\n",
       "      <td>*</td>\n",
       "      <td>*</td>\n",
       "      <td>*</td>\n",
       "      <td>は</td>\n",
       "      <td>ハ</td>\n",
       "      <td>ワ</td>\n",
       "    </tr>\n",
       "    <tr>\n",
       "      <th>3</th>\n",
       "      <td>形容詞</td>\n",
       "      <td>自立</td>\n",
       "      <td>*</td>\n",
       "      <td>*</td>\n",
       "      <td>形容詞・イイ</td>\n",
       "      <td>基本形</td>\n",
       "      <td>いい</td>\n",
       "      <td>イイ</td>\n",
       "      <td>イイ</td>\n",
       "    </tr>\n",
       "    <tr>\n",
       "      <th>4</th>\n",
       "      <td>名詞</td>\n",
       "      <td>一般</td>\n",
       "      <td>*</td>\n",
       "      <td>*</td>\n",
       "      <td>*</td>\n",
       "      <td>*</td>\n",
       "      <td>天気</td>\n",
       "      <td>テンキ</td>\n",
       "      <td>テンキ</td>\n",
       "    </tr>\n",
       "    <tr>\n",
       "      <th>5</th>\n",
       "      <td>助動詞</td>\n",
       "      <td>*</td>\n",
       "      <td>*</td>\n",
       "      <td>*</td>\n",
       "      <td>特殊・デス</td>\n",
       "      <td>基本形</td>\n",
       "      <td>です</td>\n",
       "      <td>デス</td>\n",
       "      <td>デス</td>\n",
       "    </tr>\n",
       "    <tr>\n",
       "      <th>6</th>\n",
       "      <td>BOS/EOS</td>\n",
       "      <td>*</td>\n",
       "      <td>*</td>\n",
       "      <td>*</td>\n",
       "      <td>*</td>\n",
       "      <td>*</td>\n",
       "      <td>*</td>\n",
       "      <td>*</td>\n",
       "      <td>*</td>\n",
       "    </tr>\n",
       "  </tbody>\n",
       "</table>\n",
       "</div>"
      ],
      "text/plain": [
       "        品詞 品詞細分類1 品詞細分類2 品詞細分類3     活用型  活用形 基本形   読み   発音\n",
       "0  BOS/EOS      *      *      *       *    *   *    *    *\n",
       "1       名詞   副詞可能      *      *       *    *  今日  キョウ  キョー\n",
       "2       助詞    係助詞      *      *       *    *   は    ハ    ワ\n",
       "3      形容詞     自立      *      *  形容詞・イイ  基本形  いい   イイ   イイ\n",
       "4       名詞     一般      *      *       *    *  天気  テンキ  テンキ\n",
       "5      助動詞      *      *      *   特殊・デス  基本形  です   デス   デス\n",
       "6  BOS/EOS      *      *      *       *    *   *    *    *"
      ]
     },
     "execution_count": 2,
     "metadata": {},
     "output_type": "execute_result"
    }
   ],
   "source": [
    "import pandas as pd\n",
    "\n",
    "node = tagger.parseToNode(\"今日はいい天気です\")\n",
    "features = []\n",
    "while node:\n",
    "    features.append(node.feature.split(','))\n",
    "    node = node.next\n",
    "\n",
    "columns = [\n",
    "    \"品詞\",\n",
    "    \"品詞細分類1\",\n",
    "    \"品詞細分類2\",\n",
    "    \"品詞細分類3\",\n",
    "    \"活用型\",\n",
    "    \"活用形\",\n",
    "    \"基本形\",\n",
    "    \"読み\",\n",
    "    \"発音\",\n",
    "]\n",
    "pd.DataFrame(features, columns=columns)"
   ]
  },
  {
   "attachments": {},
   "cell_type": "markdown",
   "id": "88291f69-eded-4096-93d7-857597ece10e",
   "metadata": {},
   "source": [
    "---"
   ]
  },
  {
   "attachments": {},
   "cell_type": "markdown",
   "id": "6be24edf-99ca-49a0-995e-e314753c4ce0",
   "metadata": {},
   "source": [
    "## 4. 係り受け解析"
   ]
  },
  {
   "attachments": {},
   "cell_type": "markdown",
   "id": "472d4965-1c37-4c7f-b751-a175aeffb4aa",
   "metadata": {},
   "source": [
    "### 4.1 CaboCha を使う"
   ]
  },
  {
   "attachments": {},
   "cell_type": "markdown",
   "id": "36875d67-5c83-4843-863e-efbb7193ecc7",
   "metadata": {},
   "source": [
    "#### (1) そのまま出力してみる"
   ]
  },
  {
   "cell_type": "code",
   "execution_count": 3,
   "id": "fbf8c4f2-8ea7-41ed-8289-37c7bd6b3744",
   "metadata": {
    "tags": []
   },
   "outputs": [
    {
     "name": "stdout",
     "output_type": "stream",
     "text": [
      "* 0 2D 0/1 -1.041733\n",
      "今日\t名詞,副詞可能,*,*,*,*,今日,キョウ,キョー\n",
      "は\t助詞,係助詞,*,*,*,*,は,ハ,ワ\n",
      "* 1 2D 0/0 -1.041733\n",
      "いい\t形容詞,自立,*,*,形容詞・イイ,基本形,いい,イイ,イイ\n",
      "* 2 -1D 0/1 0.000000\n",
      "天気\t名詞,一般,*,*,*,*,天気,テンキ,テンキ\n",
      "です\t助動詞,*,*,*,特殊・デス,基本形,です,デス,デス\n",
      "EOS\n",
      "\n"
     ]
    }
   ],
   "source": [
    "import CaboCha\n",
    "\n",
    "cp = CaboCha.Parser(\"-r ../tools/usr/local/etc/cabocharc\")\n",
    "tree = cp.parse(\"今日はいい天気です\")\n",
    "print(tree.toString(CaboCha.FORMAT_LATTICE))"
   ]
  },
  {
   "attachments": {},
   "cell_type": "markdown",
   "id": "03228d63-c3cc-4e1a-9560-f5af908194d9",
   "metadata": {},
   "source": [
    "#### (2) ツリー形式で出力する"
   ]
  },
  {
   "cell_type": "code",
   "execution_count": 4,
   "id": "30366faa-2c0a-40d8-a1d6-ad277e2cdc3c",
   "metadata": {
    "tags": []
   },
   "outputs": [
    {
     "name": "stdout",
     "output_type": "stream",
     "text": [
      "  今日は---D\n",
      "      いい-D\n",
      "    天気です\n",
      "EOS\n",
      "\n"
     ]
    }
   ],
   "source": [
    "print(cp.parseToString(\"今日はいい天気です\"))"
   ]
  },
  {
   "attachments": {},
   "cell_type": "markdown",
   "id": "952debf3-60eb-417f-bdf4-0c30a64a6f7e",
   "metadata": {},
   "source": [
    "#### (3) 係り受けペアを出力する"
   ]
  },
  {
   "cell_type": "code",
   "execution_count": 5,
   "id": "fe1a02cf-7596-4573-886a-048502a5ca3e",
   "metadata": {
    "tags": []
   },
   "outputs": [],
   "source": [
    "# 構文木(tree)からチャンクを取り出す\n",
    "def get_chunks(tree):\n",
    "    chunks = {}\n",
    "    key = 0\n",
    "    for i in range(tree.size()):\n",
    "        tok = tree.token(i)\n",
    "        if tok.chunk:\n",
    "            chunks[key] = tok.chunk\n",
    "            key += 1\n",
    "    return chunks\n",
    "\n",
    "\n",
    "# チャンク(chunk)から表層形を取り出す\n",
    "def get_surface(chunk):\n",
    "    surface = \"\"\n",
    "    beg = chunk.token_pos\n",
    "    end = chunk.token_pos + chunk.token_size\n",
    "    for i in range(beg, end):\n",
    "        token = tree.token(i)\n",
    "        surface += token.surface\n",
    "    return surface"
   ]
  },
  {
   "cell_type": "code",
   "execution_count": 6,
   "id": "e596af19-0ec4-4f5a-aecf-f7144b65e14b",
   "metadata": {
    "tags": []
   },
   "outputs": [
    {
     "name": "stdout",
     "output_type": "stream",
     "text": [
      "今日は -> 天気です\n",
      "いい -> 天気です\n"
     ]
    }
   ],
   "source": [
    "chunks = get_chunks(tree)\n",
    "\n",
    "for from_chunk in chunks.values():\n",
    "    if from_chunk.link < 0:\n",
    "        continue\n",
    "    to_chunk = chunks[from_chunk.link]\n",
    "\n",
    "    from_surface = get_surface(from_chunk)\n",
    "    to_surface = get_surface(to_chunk)\n",
    "\n",
    "    print(from_surface, '->', to_surface)"
   ]
  }
 ],
 "metadata": {
  "kernelspec": {
   "display_name": "gssm2023:Python",
   "language": "python",
   "name": "conda-env-gssm2023-py"
  },
  "language_info": {
   "codemirror_mode": {
    "name": "ipython",
    "version": 3
   },
   "file_extension": ".py",
   "mimetype": "text/x-python",
   "name": "python",
   "nbconvert_exporter": "python",
   "pygments_lexer": "ipython3",
   "version": "3.11.3"
  }
 },
 "nbformat": 4,
 "nbformat_minor": 5
}
