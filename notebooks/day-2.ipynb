{
 "cells": [
  {
   "cell_type": "markdown",
   "id": "ca6f6ed6-79e9-4efc-836a-040000ce8c89",
   "metadata": {
    "tags": []
   },
   "source": [
    "# day 2\n",
    "\n",
    "---"
   ]
  },
  {
   "cell_type": "markdown",
   "id": "f7a6b606-a68d-43e6-bc43-598ce32032cc",
   "metadata": {},
   "source": [
    "## 1. SageMaker Studio Lab の使い方\n",
    "\n",
    "> 引用元: ''Getting Started with Amazon SageMaker Studio Lab''"
   ]
  },
  {
   "cell_type": "markdown",
   "id": "f5315532",
   "metadata": {},
   "source": [
    "### 1.1 SageMaker Studio Lab とは"
   ]
  },
  {
   "cell_type": "markdown",
   "id": "fd6ea658-93e2-4901-9ce5-7db00e7f9f44",
   "metadata": {},
   "source": [
    "SageMaker Studio Lab は、15GBの永続的なストレージとCPUまたはGPUランタイムにアクセスできるノートブック開発環境です。プロジェクトに関するすべてのもの(ノートブック、ソースコードファイル、データセット、クローンした Git リポジトリ、Conda 環境、JupyterLab 拡張機能など)は自動的に保存されるので、プロジェクトを起動するたびに、中断した場所から再開することができます。SageMaker Studio LabはオープンソースのJupyterLab をベースにしているため、プロジェクトでオープンソースのJupyter拡張機能を利用することができます。"
   ]
  },
  {
   "cell_type": "markdown",
   "id": "64b5e9bd-abca-4f7f-9a92-889edf4a218d",
   "metadata": {},
   "source": [
    "### 1.1 Python コードを実行する"
   ]
  },
  {
   "cell_type": "markdown",
   "id": "d24aa6e0-8b62-412a-a318-f89d71a51bbd",
   "metadata": {},
   "source": [
    "このドキュメントは、[Jupyter notebook](https://jupyter.org/)です。ノートブックでは、ライブコード、数式、Markdown、画像、視覚化、その他のコンテンツを1つのドキュメントにまとめ、他の人と共有することができます。\n",
    "\n",
    "以下のPythonコードを実行するには、セルをクリックして選択し、キーボードで`Shift-Enter`を入力するか、ドキュメントの上部にあるノートブックツールバーの再生ボタンをクリックします。"
   ]
  },
  {
   "cell_type": "code",
   "execution_count": 1,
   "id": "87a80480-cf35-4fc1-a403-25a83fe17f44",
   "metadata": {
    "tags": []
   },
   "outputs": [
    {
     "name": "stdout",
     "output_type": "stream",
     "text": [
      "10 20 30\n"
     ]
    }
   ],
   "source": [
    "a = 10\n",
    "b = 20\n",
    "c = a + b\n",
    "print(a, b, c)"
   ]
  },
  {
   "cell_type": "markdown",
   "id": "92896163-cda2-4935-a1ea-14e2892734aa",
   "metadata": {},
   "source": [
    "Pythonについて詳しく知りたい方は、[Python早見表](https://chokkan.github.io/python/)などが参考になります。"
   ]
  },
  {
   "cell_type": "markdown",
   "id": "65a34fd6-c902-442a-982f-9721f3855d36",
   "metadata": {
    "tags": []
   },
   "source": [
    "### 1.2 基本操作\n",
    "\n",
    "ノートブックの作成、ソースコードファイルの作成、ターミナルへのアクセス"
   ]
  },
  {
   "cell_type": "markdown",
   "id": "45bfc279-5fbf-4337-ae47-27ba8800ace8",
   "metadata": {},
   "source": [
    "SageMaker Studio Lab では、ノートブックの作成、ソースコードファイルの作成、内蔵ターミナルへのアクセスが可能です。左パネルのファイルブラウザの上部にある「+」ボタンをクリックしてLauncherを開くことで行えます:\n",
    "\n",
    "![ランチャーボタン](images/launcher_button.png)"
   ]
  },
  {
   "cell_type": "markdown",
   "id": "3c9dc584-12c6-488f-9bcc-d67b4c61931f",
   "metadata": {},
   "source": [
    "ランチャーには、さまざまな環境でノートブックを起動したり、ソースコードファイルを作成したり、ターミナルにアクセスしたりするためのカードが用意されています:\n",
    "\n",
    "![Launcher Cards](images/launcher_cards.png)"
   ]
  },
  {
   "cell_type": "markdown",
   "id": "8940e135-cebe-406f-8a06-5e4e80b1f29d",
   "metadata": {},
   "source": [
    "作成したノートブック、ファイル、データセットはすべて永続的なプロジェクトディレクトリに保存され、プロジェクトを開くと利用できるようになります。ヘルプを入手したり、ドキュメントにアクセスするには、ページ上部のメニューバーにある **Help** メニューをクリックします。"
   ]
  },
  {
   "cell_type": "markdown",
   "id": "5c4f2ca5-7239-4ea6-822a-896896082d3f",
   "metadata": {},
   "source": [
    "### 1.2 Python パッケージをインストールするには"
   ]
  },
  {
   "cell_type": "markdown",
   "id": "a7bd626a-45dd-4778-87e3-729c3b5d9953",
   "metadata": {},
   "source": [
    "Pythonのパッケージは、他のプログラムから再利用できるようにPythonのコードをまとめたファイルです. Pythonのパッケージをインストールする最も簡単な方法は、ノートブックのコードセルで次のいずれかのマジックコマンドを使用することです:\n",
    "\n",
    "`%conda install <package>`\n",
    "\n",
    "`%pip install <package>`\n",
    "\n",
    "これらのコマンドは、常にノートブックで使用されている環境にパッケージをインストールし、インストールしたパッケージは、永続的なプロジェクトディレクトリに保存されます。注意: `!pip` or `!conda` を使うことはお勧めしません。複数の環境がある場合、これらのコマンドは予期せぬ動作をすることがあるためです。(Jypyter notebookでは`%`で始まるコマンドを「マジックコマンド」と呼びます)\n",
    "\n",
    "以下は、このノートブックで使用する環境に **NumPy** と呼ばれるパッケージをインストールする方法を示す例です:"
   ]
  },
  {
   "cell_type": "code",
   "execution_count": null,
   "id": "deef862e-c4d4-494a-9736-494aaaafb981",
   "metadata": {},
   "outputs": [],
   "source": [
    "%conda install numpy"
   ]
  },
  {
   "cell_type": "markdown",
   "id": "68523e64-73a1-4193-8b52-259921400437",
   "metadata": {},
   "source": [
    "これで **NumPy** が使えるようになりました:"
   ]
  },
  {
   "cell_type": "code",
   "execution_count": 2,
   "id": "d4086851-d2ed-4def-99a3-31f1ceee71df",
   "metadata": {
    "tags": []
   },
   "outputs": [
    {
     "data": {
      "text/plain": [
       "array([0.33928159, 0.75584376, 0.0559167 , 0.35698812, 0.05793997,\n",
       "       0.27860511, 0.44758925, 0.18289235, 0.46074772, 0.34738805])"
      ]
     },
     "execution_count": 2,
     "metadata": {},
     "output_type": "execute_result"
    }
   ],
   "source": [
    "import numpy as np\n",
    "np.random.rand(10)"
   ]
  },
  {
   "cell_type": "markdown",
   "id": "a1172abf-4034-4b49-a907-58096e29489c",
   "metadata": {},
   "source": [
    "### (参考) SageMaker Studio Lab のサンプルノートブック"
   ]
  },
  {
   "cell_type": "markdown",
   "id": "2f518443",
   "metadata": {},
   "source": [
    "#### Python早見表\n",
    "\n",
    "[Python早見表](https://chokkan.github.io/python/)は、東京工業大学の岡崎直観先生が作成された Python の入門教材です。プログラムと実行例をカタログ的に提示しながら、Pythonの言語仕様やライブラリを紹介しています。Pythonの基礎を素早く習得したり、ライブラリやオブジェクトの使い方を確認することができます。教材にある以下のボタンをクリクすることで、SageMaker上にノートブックを開くことができます。\n",
    "\n",
    "![Open In SageMaker Studio Lab](https://studiolab.sagemaker.aws/studiolab.svg)"
   ]
  },
  {
   "cell_type": "markdown",
   "id": "a3cf2268",
   "metadata": {},
   "source": [
    "---"
   ]
  },
  {
   "cell_type": "markdown",
   "id": "b6c23f64",
   "metadata": {},
   "source": [
    "## 2. 環境構築"
   ]
  },
  {
   "cell_type": "markdown",
   "id": "f7e6cb6f",
   "metadata": {},
   "source": [
    "### 2.1 MeCab のインストール"
   ]
  },
  {
   "cell_type": "code",
   "execution_count": 3,
   "id": "30202422-8b99-4dc3-81cc-9381622fde42",
   "metadata": {
    "tags": []
   },
   "outputs": [],
   "source": [
    "!bash ../scripts/install_mecab.sh > install_mecab.log 2>&1"
   ]
  },
  {
   "cell_type": "markdown",
   "id": "a9db654b-9e28-4627-93ed-7b5c52365333",
   "metadata": {
    "tags": []
   },
   "source": [
    "### 2.2 CaboCha のインストール"
   ]
  },
  {
   "cell_type": "code",
   "execution_count": null,
   "id": "4e308382-8003-4dbb-bfd1-0961b857f65d",
   "metadata": {},
   "outputs": [],
   "source": [
    "!bash ../scripts/install_cabocha.sh > install_cabocha.log 2>&1"
   ]
  },
  {
   "cell_type": "markdown",
   "id": "cc7ee22b-7645-4303-93aa-1e823525e832",
   "metadata": {},
   "source": [
    "### 2.3 Kernel のリスタート"
   ]
  },
  {
   "cell_type": "code",
   "execution_count": null,
   "id": "2ec44924-8b85-4e62-9c60-428a298367d0",
   "metadata": {},
   "outputs": [],
   "source": [
    "import os\n",
    "os._exit(0)"
   ]
  },
  {
   "cell_type": "markdown",
   "id": "6aa19ed6-f659-48c3-95e7-88e890a7dd2f",
   "metadata": {},
   "source": [
    "---"
   ]
  },
  {
   "cell_type": "markdown",
   "id": "d62a17a1-dada-42e1-b478-6c94e7aaeb3d",
   "metadata": {},
   "source": [
    "## 3. 形態素解析"
   ]
  },
  {
   "cell_type": "markdown",
   "id": "2a7fe581-4fbd-4f7c-9706-a3d089c45145",
   "metadata": {},
   "source": [
    "### 3.1 MeCab を使う"
   ]
  },
  {
   "cell_type": "code",
   "execution_count": null,
   "id": "ac900f64-fc14-4522-bf30-1b3dcb816ad7",
   "metadata": {},
   "outputs": [],
   "source": [
    "import MeCab\n",
    "\n",
    "tagger = MeCab.Tagger(\"-r ../tools/usr/local/etc/mecabrc\")\n",
    "print(tagger.parse(\"今日はいい天気です\"))"
   ]
  },
  {
   "cell_type": "markdown",
   "id": "88291f69-eded-4096-93d7-857597ece10e",
   "metadata": {},
   "source": [
    "---"
   ]
  },
  {
   "cell_type": "markdown",
   "id": "6be24edf-99ca-49a0-995e-e314753c4ce0",
   "metadata": {},
   "source": [
    "## 4. 係り受け解析"
   ]
  },
  {
   "cell_type": "markdown",
   "id": "472d4965-1c37-4c7f-b751-a175aeffb4aa",
   "metadata": {},
   "source": [
    "### 4.1 CaboCha を使う"
   ]
  },
  {
   "cell_type": "code",
   "execution_count": null,
   "id": "fbf8c4f2-8ea7-41ed-8289-37c7bd6b3744",
   "metadata": {},
   "outputs": [],
   "source": [
    "import CaboCha\n",
    "\n",
    "cp = CaboCha.Parser(\"-r ../tools/usr/local/etc/cabocharc\")\n",
    "tree = cp.parse(\"今日はいい天気です\")\n",
    "print(tree.toString(CaboCha.FORMAT_LATTICE))"
   ]
  },
  {
   "cell_type": "code",
   "execution_count": null,
   "id": "30366faa-2c0a-40d8-a1d6-ad277e2cdc3c",
   "metadata": {},
   "outputs": [],
   "source": []
  }
 ],
 "metadata": {
  "kernelspec": {
   "display_name": "default:Python",
   "language": "python",
   "name": "conda-env-default-py"
  },
  "language_info": {
   "codemirror_mode": {
    "name": "ipython",
    "version": 3
   },
   "file_extension": ".py",
   "mimetype": "text/x-python",
   "name": "python",
   "nbconvert_exporter": "python",
   "pygments_lexer": "ipython3",
   "version": "3.9.16"
  }
 },
 "nbformat": 4,
 "nbformat_minor": 5
}
