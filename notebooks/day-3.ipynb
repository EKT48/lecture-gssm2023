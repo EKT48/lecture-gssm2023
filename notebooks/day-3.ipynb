{
 "cells": [
  {
   "cell_type": "markdown",
   "id": "ca6f6ed6-79e9-4efc-836a-040000ce8c89",
   "metadata": {
    "tags": []
   },
   "source": [
    "# day 3"
   ]
  },
  {
   "cell_type": "markdown",
   "id": "121ad82b-56cd-469e-9d1a-1c3f76c25385",
   "metadata": {},
   "source": [
    "このノートブックの実行例は[こちら(HTML版)](../notebooks-sample/day-3.html)で確認できます"
   ]
  },
  {
   "cell_type": "markdown",
   "id": "02b026be-871b-4e1b-b6f2-86af31885045",
   "metadata": {},
   "source": [
    "---"
   ]
  },
  {
   "cell_type": "markdown",
   "id": "14d9bc8c-8096-4d76-b983-250b7a4b8203",
   "metadata": {},
   "source": [
    "## 0. はじめに"
   ]
  },
  {
   "cell_type": "markdown",
   "id": "1a794a09-51b9-449b-b699-32a6318de81b",
   "metadata": {},
   "source": [
    "ページ上部のメニューバーにある **Kernel** メニューをクリックし、プルダウンメニューから [**Change Kernel ...**] を選び、**gssm2023:Python** を選択してください。\n",
    "\n",
    "<img src=\"images/change_kernel1.png\" width=\"30%\">"
   ]
  },
  {
   "cell_type": "markdown",
   "id": "097064cc-d520-4893-a0e6-16ff5b34c15a",
   "metadata": {},
   "source": [
    "ノートブック上部の右隅に表示されたカーネル名が **gssm2023:Python** になっていることを確認してください。\n",
    "\n",
    "<img src=\"images/change_kernel2.png\" width=\"30%\">\n",
    "\n",
    "---"
   ]
  },
  {
   "cell_type": "markdown",
   "id": "647bd5b1-64b2-4113-90c7-f31684ed2860",
   "metadata": {},
   "source": [
    "## 1. テキスト解析 (2)"
   ]
  },
  {
   "cell_type": "markdown",
   "id": "ff63ae02-8b65-425f-958a-628f771494a8",
   "metadata": {},
   "source": [
    "### 1.0 事前準備 (関数の定義)"
   ]
  },
  {
   "cell_type": "markdown",
   "id": "cdce76ea-4a7a-44a6-a6a9-7556f9c1dc7c",
   "metadata": {},
   "source": [
    "以下のセルを**修正せず**に実行してください"
   ]
  },
  {
   "cell_type": "code",
   "execution_count": null,
   "id": "7d4dcc07",
   "metadata": {},
   "outputs": [],
   "source": [
    "import warnings\n",
    "warnings.simplefilter('ignore')\n",
    "\n",
    "import random\n",
    "import numpy as np\n",
    "\n",
    "seed = 42\n",
    "random.seed(seed)\n",
    "np.random.seed(seed)\n",
    "\n",
    "# ワードクラウドを描画する\n",
    "def plot_wordcloud(word_str, width=6, height=4):\n",
    "\n",
    "    import matplotlib.pyplot as plt\n",
    "    %matplotlib inline\n",
    "\n",
    "    fig = plt.figure(figsize=(width, height))\n",
    "    ax = fig.add_subplot(1, 1, 1)\n",
    "    plot_wordcloud_ax(ax, word_str)\n",
    "    plt.axis(\"off\")\n",
    "    plt.tight_layout()\n",
    "    plt.show()\n",
    "\n",
    "def plot_wordcloud_ax(ax, word_str):\n",
    "\n",
    "    font_path = !find ${HOME} -name \"ipaexg.ttf\"\n",
    "    # font_path = ['/Library/Fonts/Arial Unicode.ttf']\n",
    "\n",
    "    import wordcloud\n",
    "\n",
    "    wc = wordcloud.WordCloud(\n",
    "        background_color='white',\n",
    "        font_path=font_path[0],\n",
    "        max_font_size=100)\n",
    "\n",
    "    img = wc.generate(word_str)\n",
    "    ax.imshow(img, interpolation='bilinear')\n",
    "\n",
    "\n",
    "# トピックモデルによるワードクラウドを描画する\n",
    "def plot_topic_model(lda, feature_names, n_top_words=20, width=10, height=4):\n",
    "\n",
    "    font_path = !find ${HOME} -name \"ipaexg.ttf\"\n",
    "    # font_path = ['/Library/Fonts/Arial Unicode.ttf']\n",
    "\n",
    "    import matplotlib.pyplot as plt\n",
    "    import wordcloud\n",
    "    %matplotlib inline\n",
    "\n",
    "    fig = plt.figure(figsize=(width, height))\n",
    "\n",
    "    for topic_idx, topic in enumerate(lda.components_):\n",
    "        sorted_text = ' '.join([feature_names[i] for i in topic.argsort()[:-n_top_words-1:-1]])\n",
    "\n",
    "        wc = wordcloud.WordCloud(\n",
    "            background_color='white',\n",
    "            font_path=font_path[0],\n",
    "            max_font_size=100)\n",
    "\n",
    "        ax = fig.add_subplot(2, 3, topic_idx + 1)\n",
    "        img = wc.generate(sorted_text)\n",
    "        ax.imshow(img, interpolation='bilinear')\n",
    "        ax.set_title(f\"Topic # {topic_idx+1}:\")\n",
    "\n",
    "    plt.tight_layout()\n",
    "    plt.show()\n",
    "\n",
    "\n",
    "# 共起ネットワークを描画する (抽出語-抽出語用)\n",
    "def plot_cooccur_network(df, word_counts, cutoff, width=8, height=8):\n",
    "\n",
    "    import matplotlib.pyplot as plt\n",
    "    import japanize_matplotlib\n",
    "\n",
    "    plt.figure(figsize=(width, height))\n",
    "    fig = plt.figure(figsize=(width, height))\n",
    "    ax = fig.add_subplot(1, 1, 1)\n",
    "    plot_cooccur_network_ax(ax, df, word_counts, cutoff)\n",
    "    plt.axis(\"off\")\n",
    "    plt.show()\n",
    "\n",
    "def plot_cooccur_network_ax(ax, df, word_counts, cutoff):\n",
    "\n",
    "    import numpy as np\n",
    "    import networkx as nx\n",
    "    from networkx.algorithms import community\n",
    "    from networkx.drawing.nx_agraph import graphviz_layout\n",
    "    import matplotlib.pyplot as plt\n",
    "    import japanize_matplotlib\n",
    "    %matplotlib inline\n",
    "\n",
    "    Xc = df.values\n",
    "    Xc_max = Xc.max()\n",
    "\n",
    "    words = df.columns\n",
    "    count_max = word_counts.max()\n",
    "\n",
    "    weights_w, weights_c = [], []\n",
    "    for i, j in zip(*Xc.nonzero()):\n",
    "        if i < j and Xc[i,j] > cutoff:\n",
    "            weights_w.append((words[i], {'weight': word_counts[i] / count_max}))\n",
    "            weights_w.append((words[j], {'weight': word_counts[j] / count_max}))\n",
    "            weights_c.append((words[i], words[j], Xc[i,j] / Xc_max))\n",
    "\n",
    "    G = nx.Graph()\n",
    "    G.add_nodes_from(weights_w)\n",
    "    G.add_weighted_edges_from(weights_c)\n",
    "    G.remove_nodes_from(list(nx.isolates(G)))\n",
    "    # G = nx.minimum_spanning_tree(G)\n",
    "\n",
    "    # pos = nx.spring_layout(G, k=0.3)\n",
    "    pos = graphviz_layout(G, prog='neato', args='-Goverlap=\"scalexy\" -Gsep=\"+6\" -Gnodesep=0.8 -Gsplines=\"polyline\" -GpackMode=\"graph\" -Gstart={}'.format(43))\n",
    "    weights_n = np.array(list(nx.get_node_attributes(G, 'weight').values()))\n",
    "    weights_e = np.array(list(nx.get_edge_attributes(G, 'weight').values()))\n",
    "\n",
    "    communities = community.greedy_modularity_communities(G)\n",
    "    color_map = []\n",
    "    for node in G:\n",
    "        for i, c in enumerate(communities):\n",
    "            if node in c:\n",
    "                color_map.append(i)\n",
    "\n",
    "    nx.draw_networkx_nodes(G, pos, node_color=color_map, alpha=0.7, cmap=plt.cm.Set2, node_size=5000 * weights_n, ax=ax)\n",
    "    nx.draw_networkx_edges(G, pos, edge_color='gray', edge_cmap=plt.cm.Blues, alpha=0.7, width=3 * weights_e, ax=ax)\n",
    "    nx.draw_networkx_labels(G, pos, font_family='IPAexGothic', ax=ax)\n",
    "    # ax.axis('off')\n",
    "\n",
    "\n",
    "# 共起ネットワークを描画する (外部変数-抽出語用)\n",
    "def plot_attrs_network(df, attr_counts, word_counts, cutoff, width=8, height=8):\n",
    "\n",
    "    import numpy as np\n",
    "    import networkx as nx\n",
    "    import matplotlib.pyplot as plt\n",
    "    import japanize_matplotlib\n",
    "    from networkx.drawing.nx_agraph import graphviz_layout\n",
    "    %matplotlib inline\n",
    "\n",
    "    Xc = df.values\n",
    "    Xc_max = Xc.max()\n",
    "\n",
    "    attrs = list(df.index)\n",
    "    attr_count_max = attr_counts.max()\n",
    "\n",
    "    words = list(df.columns)\n",
    "    word_count_max = word_counts.max()\n",
    "\n",
    "    weights_n, weights_c = [], []\n",
    "    for i, j in zip(*Xc.nonzero()):\n",
    "        if Xc[i,j] > cutoff:\n",
    "            weights_n.append((attrs[i], {'weight': attr_counts[i] / attr_count_max, 'type': 'attr'}))\n",
    "            weights_n.append((words[j], {'weight': word_counts[j] / word_count_max, 'type': 'word'}))\n",
    "            weights_c.append((attrs[i], words[j], Xc[i,j] / Xc_max))\n",
    "\n",
    "    G = nx.Graph()\n",
    "    G.add_nodes_from(weights_n)\n",
    "    G.add_weighted_edges_from(weights_c)\n",
    "    G.remove_nodes_from(list(nx.isolates(G)))\n",
    "    # G = nx.minimum_spanning_tree(G)\n",
    "\n",
    "    plt.figure(figsize=(width, height))\n",
    "    # pos = nx.spring_layout(G, k=0.3)\n",
    "    pos = graphviz_layout(G, prog='neato', args='-Goverlap=\"scalexy\" -Gsep=\"+6\" -Gnodesep=0.8 -Gsplines=\"polyline\" -GpackMode=\"graph\" -Gstart={}'.format(43))\n",
    "\n",
    "    nodelist_a = [node for node in G.nodes if G.nodes[node]['type'] == 'attr']\n",
    "    nodelist_w = [node for node in G.nodes if G.nodes[node]['type'] == 'word']\n",
    "    weights_a = np.array([G.nodes[node]['weight'] for node in G.nodes if G.nodes[node]['type'] == 'attr'])\n",
    "    weights_w = np.array([G.nodes[node]['weight'] for node in G.nodes if G.nodes[node]['type'] == 'word'])\n",
    "    weights_e = np.array(list(nx.get_edge_attributes(G, 'weight').values()))\n",
    "\n",
    "    color_map = []\n",
    "    for node in G:\n",
    "        if G.nodes[node]['type'] == 'word':\n",
    "            color_map.append(G.degree(node)+3)\n",
    "\n",
    "    nx.draw_networkx_nodes(G, pos, node_color='lightsalmon', alpha=0.7, cmap=plt.cm.Set2, node_size=1000 * weights_a, nodelist=nodelist_a, node_shape='s')\n",
    "    nx.draw_networkx_nodes(G, pos, node_color=color_map, alpha=0.7, cmap=plt.cm.Set2, node_size=5000 * weights_w, nodelist=nodelist_w)\n",
    "    nx.draw_networkx_edges(G, pos, edge_color='gray', edge_cmap=plt.cm.Blues, alpha=0.7, width=3 * weights_e)\n",
    "    nx.draw_networkx_labels(G, pos, font_family='IPAexGothic')\n",
    "\n",
    "    plt.axis(\"off\")\n",
    "    plt.show()\n",
    "\n",
    "\n",
    "# 係り受けによる共起ネットワークを描画する\n",
    "def plot_dependency_network(df, word_counts, cutoff, width=8, height=8):\n",
    "\n",
    "    import numpy as np\n",
    "    import networkx as nx\n",
    "    from networkx.algorithms import community\n",
    "    import matplotlib.pyplot as plt\n",
    "    import japanize_matplotlib\n",
    "    from networkx.drawing.nx_agraph import graphviz_layout\n",
    "    %matplotlib inline\n",
    "\n",
    "    Xc = df.values\n",
    "    Xc_max = Xc.max()\n",
    "\n",
    "    words = df.columns\n",
    "    count_max = word_counts.max()\n",
    "\n",
    "    weights_w, weights_c = [], []\n",
    "    for i, j in zip(*Xc.nonzero()):\n",
    "        if i != j and Xc[i,j] > cutoff:\n",
    "            weights_w.append((words[i], {'weight': word_counts[i] / count_max}))\n",
    "            weights_w.append((words[j], {'weight': word_counts[j] / count_max}))\n",
    "            weights_c.append((words[i], words[j], Xc[i,j] / Xc_max))\n",
    "\n",
    "    G = nx.DiGraph()\n",
    "    G.add_nodes_from(weights_w)\n",
    "    G.add_weighted_edges_from(weights_c)\n",
    "    G.remove_nodes_from(list(nx.isolates(G)))\n",
    "    # G = nx.minimum_spanning_tree(G)\n",
    "\n",
    "    plt.figure(figsize=(width, height))\n",
    "    # pos = nx.spring_layout(G, k=0.3)\n",
    "    pos = graphviz_layout(G, prog='neato', args='-Goverlap=\"scalexy\" -Gsep=\"+6\" -Gnodesep=0.8 -Gsplines=\"polyline\" -GpackMode=\"graph\" -Gstart={}'.format(43))\n",
    "    weights_n = np.array(list(nx.get_node_attributes(G, 'weight').values()))\n",
    "    weights_e = np.array(list(nx.get_edge_attributes(G, 'weight').values()))\n",
    "\n",
    "    communities = community.greedy_modularity_communities(G)\n",
    "    color_map = []\n",
    "    for node in G:\n",
    "        for i, c in enumerate(communities):\n",
    "            if node in c:\n",
    "                color_map.append(i)\n",
    "\n",
    "    nx.draw_networkx_nodes(G, pos, node_color=color_map, alpha=0.7, cmap=plt.cm.Set2, node_size=5000 * weights_n)\n",
    "    nx.draw_networkx_edges(G, pos, edge_color='gray', edge_cmap=plt.cm.Blues, alpha=0.7, width=3 * weights_e)\n",
    "    nx.draw_networkx_labels(G, pos, font_family='IPAexGothic')\n",
    "\n",
    "    plt.axis(\"off\")\n",
    "    plt.show()\n",
    "\n",
    "\n",
    "# 対応分析の結果をプロットする\n",
    "def plot_coresp(row_coord, col_coord, row_labels, col_labels, explained_inertia=None, width=8, height=8):\n",
    "\n",
    "    import matplotlib.pyplot as plt\n",
    "    import japanize_matplotlib\n",
    "    %matplotlib inline\n",
    "\n",
    "    plt.figure(figsize=(width, height))\n",
    "\n",
    "    # Plot of rows (外部変数)\n",
    "    plt.plot(row_coord[:, 0], row_coord[:, 1], \"*\", color='red', alpha=0.5)\n",
    "    for i, label in enumerate(row_labels):\n",
    "        plt.text(row_coord[i, 0], row_coord[i, 1], label, color='red', ha='left', va='bottom')\n",
    "\n",
    "    # Plot of columns (単語)\n",
    "    plt.plot(col_coord[:, 0], col_coord[:, 1], \"o\", color='blue', alpha=0.5)\n",
    "    for i, label in enumerate(col_labels):\n",
    "        plt.text(col_coord[i, 0], col_coord[i, 1], label, color='blue', ha='left', va='bottom')\n",
    "\n",
    "    plt.axvline(0, linestyle='dashed', color='gray', alpha=0.5)\n",
    "    plt.axhline(0, linestyle='dashed', color='gray', alpha=0.5)\n",
    "\n",
    "    if explained_inertia is not None:\n",
    "        plt.xlabel(f\"Dim 1 ({explained_inertia[0]:.3f}%)\")\n",
    "        plt.ylabel(f\"Dim 2 ({explained_inertia[1]:.3f}%)\")\n",
    "\n",
    "    # plt.axis('equal')\n",
    "    plt.show()\n",
    "\n",
    "\n",
    "# PCA の結果をプロットする\n",
    "def plot_pca(coeff, reduced, row_labels, col_labels, var_ratio=None, width=8, height=8):\n",
    "\n",
    "    import matplotlib.pyplot as plt\n",
    "    import japanize_matplotlib\n",
    "    %matplotlib inline\n",
    "\n",
    "    plt.figure(figsize=(width, height))\n",
    "\n",
    "    # Plot of rows (外部変数)\n",
    "    for i, label in enumerate(row_labels):\n",
    "        plt.arrow(0, 0, coeff[i,0], coeff[i,1], color='r', alpha=0.5)\n",
    "        plt.text(coeff[i, 0], coeff[i, 1], label, color='red', ha='left', va='bottom')\n",
    "\n",
    "    # Plot of columns (単語)\n",
    "    plt.plot(reduced[:, 0], reduced[:, 1], \"o\", color='blue', alpha=0.5)\n",
    "    for i, label in enumerate(col_labels):\n",
    "        plt.text(reduced[i, 0], reduced[i, 1], label, color='blue', ha='left', va='bottom')\n",
    "\n",
    "    plt.axvline(0, linestyle='dashed', color='gray', alpha=0.5)\n",
    "    plt.axhline(0, linestyle='dashed', color='gray', alpha=0.5)\n",
    "\n",
    "    if var_ratio is not None:\n",
    "        plt.xlabel(f\"Dim 1 ({var_ratio[0]*100:.3f}%)\")\n",
    "        plt.ylabel(f\"Dim 2 ({var_ratio[1]*100:.3f}%)\")\n",
    "\n",
    "    # plt.axis('equal')\n",
    "    plt.show()\n",
    "\n",
    "\n",
    "# 共起頻度行列を Jaccard 係数行列に変換する (抽出語-抽出語用)\n",
    "def jaccard_coef(cooccur_df, cross_df):\n",
    "\n",
    "    import numpy as np\n",
    "    import pandas as pd\n",
    "\n",
    "    Xc = cooccur_df.values\n",
    "    Xj = np.zeros(Xc.shape)\n",
    "    Xc_sum = cross_df.sum(axis=0).values\n",
    "\n",
    "    for i, j in zip(*Xc.nonzero()):\n",
    "        if i < j:\n",
    "            Xj[i,j] = Xc[i,j] / (Xc_sum[i] + Xc_sum[j] - Xc[i,j])\n",
    "\n",
    "    jaccard_df = pd.DataFrame(Xj, columns=cooccur_df.columns, index=cooccur_df.columns)\n",
    "\n",
    "    return jaccard_df\n",
    "\n",
    "\n",
    "# 共起頻度行列を Jaccard 係数行列に変換する (外部変数-抽出語用)\n",
    "def jaccard_attrs_coef(df, attr_counts, word_counts, total=10000, conditional=False):\n",
    "\n",
    "    import numpy as np\n",
    "    import pandas as pd\n",
    "\n",
    "    Xc = df.values\n",
    "    Xj = np.zeros(df.shape)\n",
    "\n",
    "    for i, j in zip(*Xc.nonzero()):\n",
    "\n",
    "        if not conditional:\n",
    "            conditional_prob = Xc[i,j] / attr_counts[i]\n",
    "            assumption_prob = word_counts[j] / total\n",
    "\n",
    "            if conditional_prob > assumption_prob:\n",
    "                Xj[i,j] = Xc[i,j] / (attr_counts[i] + word_counts[j] - Xc[i,j])\n",
    "            else:\n",
    "                Xj[i,j] = .0\n",
    "        else:\n",
    "            Xj[i,j] = Xc[i,j] / (attr_counts[i] + word_counts[j] - Xc[i,j])\n",
    "\n",
    "    jaccard_df = pd.DataFrame(Xj, columns=df.columns, index=df.index)\n",
    "\n",
    "    return jaccard_df"
   ]
  },
  {
   "cell_type": "markdown",
   "id": "3ffa2dec-da82-4b61-a10d-d00aad109f41",
   "metadata": {},
   "source": [
    "### 1.1 データのダウンロード (前回ダウンロード済みのためスキップ)"
   ]
  },
  {
   "cell_type": "markdown",
   "id": "3ea1c51f-947e-49aa-a71f-9ab3185e06fa",
   "metadata": {},
   "source": [
    "以下のデータがダウンロード済みです"
   ]
  },
  {
   "cell_type": "markdown",
   "id": "94c44667-eeb0-4acd-b5ea-5039e225129f",
   "metadata": {
    "tags": []
   },
   "source": [
    "| ファイル名 | 件数 | データセット | 備考 |\n",
    "| --- | --- | --- | --- |\n",
    "| rakuten-1000-2022-2023.xlsx.zip | 10,000 | •レジャー+ビジネスの 10エリア<br>•エリアごと 1,000件 (ランダムサンプリング)<br>•期間: 2022/1~2023 GW明け | 本講義の全体を通して使用する |"
   ]
  },
  {
   "cell_type": "code",
   "execution_count": null,
   "id": "614d4536-de4f-4cd7-b6ce-e1ed5e60bd45",
   "metadata": {
    "tags": []
   },
   "outputs": [],
   "source": [
    "# もし、再度ダウンロードが必要な場合は残りの行のコメントマーク「#」を除去して、このセルを再実行してください\n",
    "\n",
    "# FILE_ID = \"1n-uvGoH7XQhxexN57hYXuFrkGeHKp-HV\"\n",
    "# !gdown --id {FILE_ID}\n",
    "# !unzip rakuten-1000-2022-2023.xlsx.zip"
   ]
  },
  {
   "cell_type": "markdown",
   "id": "bc9daa65-996b-4c16-bfc6-5e8de843291c",
   "metadata": {
    "tags": []
   },
   "source": [
    "### 1.2 データの読み込み (DataFrame型)"
   ]
  },
  {
   "cell_type": "code",
   "execution_count": null,
   "id": "71bd612f-4a36-40ef-9685-c4898fafd177",
   "metadata": {
    "tags": []
   },
   "outputs": [],
   "source": [
    "import numpy as np\n",
    "import pandas as pd\n",
    "\n",
    "all_df = pd.read_excel(\"rakuten-1000-2022-2023.xlsx\")\n",
    "print(all_df.shape)\n",
    "display(all_df.head())"
   ]
  },
  {
   "cell_type": "markdown",
   "id": "45dc5bee-fefd-4fe5-98e2-eee3d7965ab3",
   "metadata": {},
   "source": [
    "### 1.3 単語の抽出"
   ]
  },
  {
   "cell_type": "markdown",
   "id": "a217a28a-284e-41a1-b981-ff59d3ed3a36",
   "metadata": {},
   "source": [
    "コメント列から単語を抽出する (単語を品詞「名詞」「形容詞」「未知語」で絞り込む)"
   ]
  },
  {
   "cell_type": "code",
   "execution_count": null,
   "id": "2849575f-a94e-4805-b411-cdfc7d76dcc7",
   "metadata": {
    "tags": []
   },
   "outputs": [],
   "source": [
    "from collections import defaultdict\n",
    "import MeCab\n",
    "\n",
    "tagger = MeCab.Tagger(\"-r ../tools/usr/local/etc/mecabrc --unk-feature 未知語\")\n",
    "\n",
    "word_counts = defaultdict(lambda: 0)\n",
    "words = []\n",
    "\n",
    "ZEN = \"\".join(chr(0xff01 + i) for i in range(94))\n",
    "HAN = \"\".join(chr(0x21 + i) for i in range(94))\n",
    "HAN2ZEN = str.maketrans(HAN, ZEN)\n",
    "\n",
    "# stopwords = ['する', 'ある', 'ない', 'いう', 'もの', 'こと', 'よう', 'なる', 'ほう']\n",
    "stopwords = [\"湯畑\"]\n",
    "\n",
    "for index, row in all_df.iterrows():\n",
    "    node = tagger.parseToNode(row[\"コメント\"].translate(HAN2ZEN))\n",
    "    while node:\n",
    "        features = node.feature.split(',')\n",
    "        pos1 = features[0]\n",
    "        pos2 = features[1] if len(features) > 1 else \"\"\n",
    "        base = features[6] if len(features) > 6 else None\n",
    "\n",
    "        if base not in stopwords:\n",
    "\n",
    "            if (pos1 == \"名詞\" and pos2 == \"一般\"):\n",
    "                base = base if base is not None else node.surface\n",
    "                postag = \"名詞\"\n",
    "                key = (base, postag)\n",
    "                word_counts[key] += 1\n",
    "                words.append([index + 1, base, postag, row[\"カテゴリー\"], row[\"エリア\"], key])\n",
    "\n",
    "            elif (pos1 == \"名詞\" and pos2 == \"形容動詞語幹\"):\n",
    "                base = base if base is not None else node.surface\n",
    "                base = f\"{base}だ\"\n",
    "                postag = \"形容動詞\"\n",
    "                key = (base, postag)\n",
    "                word_counts[key] += 1\n",
    "                words.append([index + 1, base, postag, row[\"カテゴリー\"], row[\"エリア\"], key])\n",
    "\n",
    "            elif pos1 == \"形容詞\":\n",
    "                base = base if base is not None else node.surface\n",
    "                postag = \"形容詞\"\n",
    "                key = (base, postag)\n",
    "                word_counts[key] += 1\n",
    "                words.append([index + 1, base, postag, row[\"カテゴリー\"], row[\"エリア\"], key])\n",
    "\n",
    "            elif pos1 == \"未知語\":\n",
    "                base = base if base is not None else node.surface\n",
    "                postag = \"未知語\"\n",
    "                key = (base, postag)\n",
    "                word_counts[key] += 1\n",
    "                words.append([index + 1, base, postag, row[\"カテゴリー\"], row[\"エリア\"], key])\n",
    "\n",
    "        node = node.next\n",
    "\n",
    "columns = [\n",
    "    \"文書ID\",\n",
    "    # \"単語ID\",\n",
    "    \"表層\",\n",
    "    \"品詞\",\n",
    "    \"カテゴリー\",\n",
    "    \"エリア\",\n",
    "    \"dict_key\",\n",
    "]\n",
    "docs_df = pd.DataFrame(words, columns=columns)\n",
    "print(docs_df.shape)\n",
    "display(docs_df.head())"
   ]
  },
  {
   "cell_type": "markdown",
   "id": "a4a591f4-512a-41c4-ae83-b9014096dd09",
   "metadata": {},
   "source": [
    "### 1.4 単語の出現回数 (Top 75)"
   ]
  },
  {
   "cell_type": "markdown",
   "id": "e9a03c6f-1a67-4e96-a78f-ec471d4098d5",
   "metadata": {},
   "source": [
    "単語の出現頻度をカウントする"
   ]
  },
  {
   "cell_type": "code",
   "execution_count": null,
   "id": "ca5bed21-5e42-4f00-8bc9-32ed5b0a5a50",
   "metadata": {
    "tags": []
   },
   "outputs": [],
   "source": [
    "word_list = []\n",
    "for i, (k, v) in enumerate(sorted(word_counts.items(), key=lambda x:x[1], reverse=True)):\n",
    "    word_list.append((i, k[0], v, k))\n",
    "\n",
    "columns = [\n",
    "    \"単語ID\",\n",
    "    \"表層\",\n",
    "    \"出現頻度\",\n",
    "    \"dict_key\"\n",
    "]\n",
    "word_counts_df = pd.DataFrame(word_list, columns=columns)\n",
    "print(word_counts_df.shape)\n",
    "display(word_counts_df.head(10))"
   ]
  },
  {
   "cell_type": "markdown",
   "id": "6fe27d68",
   "metadata": {},
   "source": [
    "単語IDを紐つける (出現回数 Top 150語のみ抽出する)"
   ]
  },
  {
   "cell_type": "code",
   "execution_count": null,
   "id": "9127684b-da31-4a70-ab00-8900f3ffed27",
   "metadata": {
    "tags": []
   },
   "outputs": [],
   "source": [
    "word_counts_150_df = word_counts_df[0:150]\n",
    "merged_df = pd.merge(docs_df, word_counts_150_df, how=\"inner\", on=\"dict_key\", suffixes=[\"\", \"_right\"])\n",
    "docs_150_df = merged_df[[\"文書ID\", \"単語ID\", \"表層\", \"品詞\", \"カテゴリー\", \"エリア\", \"dict_key\"]]\n",
    "print(docs_150_df.shape)\n",
    "display(docs_150_df)"
   ]
  },
  {
   "cell_type": "markdown",
   "id": "ec122799-b82c-4916-aff6-40db98deb874",
   "metadata": {},
   "source": [
    "### 1.5 ワードクラウド"
   ]
  },
  {
   "cell_type": "code",
   "execution_count": null,
   "id": "538108f3-34fb-4b05-a120-60623c54bfc5",
   "metadata": {
    "tags": []
   },
   "outputs": [],
   "source": [
    "words = ' '.join(word_counts_df['表層'][0:75])\n",
    "plot_wordcloud(words)"
   ]
  },
  {
   "cell_type": "markdown",
   "id": "f2cc2c3c-3383-4e49-b678-471d3f7a530a",
   "metadata": {
    "tags": []
   },
   "source": [
    "### 1.6 「文書-抽出語」表の作成"
   ]
  },
  {
   "cell_type": "markdown",
   "id": "44f00bf0",
   "metadata": {},
   "source": [
    "「文書-抽出語」表を作成する (出現回数 Top 75語)"
   ]
  },
  {
   "cell_type": "code",
   "execution_count": null,
   "id": "8fadd536-1426-4c17-ab7e-2b7156116d5a",
   "metadata": {
    "tags": []
   },
   "outputs": [],
   "source": [
    "word_counts_75_df = word_counts_df[0:75]\n",
    "merged_df = pd.merge(docs_df, word_counts_75_df, how=\"inner\", on=\"dict_key\", suffixes=[\"\", \"_right\"])\n",
    "docs_75_df = merged_df[[\"文書ID\", \"単語ID\", \"表層\", \"品詞\", \"カテゴリー\", \"エリア\", \"dict_key\"]]\n",
    "\n",
    "cross_75_df = pd.crosstab(\n",
    "    [\n",
    "        docs_75_df['カテゴリー'], \n",
    "        docs_75_df['エリア'], \n",
    "        docs_75_df['文書ID']\n",
    "    ], \n",
    "    docs_75_df['単語ID'], margins=False\n",
    ")\n",
    "cross_75_df.columns = word_counts_75_df[\"表層\"]\n",
    "print(cross_75_df.shape)\n",
    "display(cross_75_df)"
   ]
  },
  {
   "cell_type": "markdown",
   "id": "c651952b",
   "metadata": {},
   "source": [
    "「文書-抽出語」 表を {0,1} に変換する"
   ]
  },
  {
   "cell_type": "code",
   "execution_count": null,
   "id": "769278b1",
   "metadata": {},
   "outputs": [],
   "source": [
    "cross_75_df[cross_75_df > 0] = 1\n",
    "print(cross_75_df.shape)\n",
    "display(cross_75_df)"
   ]
  },
  {
   "cell_type": "markdown",
   "id": "11786769-22aa-44e3-a817-2a593497f00f",
   "metadata": {
    "tags": []
   },
   "source": [
    "### 1.7 共起ネットワーク図"
   ]
  },
  {
   "cell_type": "markdown",
   "id": "6f48c9db-bbed-43a8-8451-4709abebd87a",
   "metadata": {},
   "source": [
    "#### 1.7.1 共起度行列を作成する (抽出語-抽出語)"
   ]
  },
  {
   "cell_type": "code",
   "execution_count": null,
   "id": "f8c37515-b171-446a-9020-8f6e1391facf",
   "metadata": {
    "tags": []
   },
   "outputs": [],
   "source": [
    "from scipy.sparse import csc_matrix\n",
    "\n",
    "X = cross_75_df.values\n",
    "X = csc_matrix(X)\n",
    "Xc = (X.T * X)\n",
    "Xc = np.triu(Xc.toarray())\n",
    "\n",
    "cooccur_75_df = pd.DataFrame(Xc, columns=cross_75_df.columns, index=cross_75_df.columns)\n",
    "print(cooccur_75_df.shape)\n",
    "display(cooccur_75_df.head())"
   ]
  },
  {
   "cell_type": "markdown",
   "id": "41ed95a2-60f0-4248-948d-1a77f63136ee",
   "metadata": {},
   "source": [
    "#### 1.7.2 Jaccard 係数を求める (抽出語-抽出語)"
   ]
  },
  {
   "cell_type": "code",
   "execution_count": null,
   "id": "7f0d053b-5d08-4aea-9052-f4909bec75b4",
   "metadata": {
    "tags": []
   },
   "outputs": [],
   "source": [
    "jaccard_75_df = jaccard_coef(cooccur_75_df, cross_75_df)\n",
    "print(jaccard_75_df.shape)\n",
    "display(jaccard_75_df.head())"
   ]
  },
  {
   "cell_type": "markdown",
   "id": "0cfb73da-5154-41a5-ad24-3f76038be128",
   "metadata": {},
   "source": [
    "### 1.7.3 プロットする"
   ]
  },
  {
   "cell_type": "code",
   "execution_count": null,
   "id": "d236a1f2-2cb2-4dba-8da3-dee524f24b13",
   "metadata": {
    "tags": []
   },
   "outputs": [],
   "source": [
    "word_counts = cross_75_df.sum(axis=0).values\n",
    "plot_cooccur_network(jaccard_75_df, word_counts, np.sort(jaccard_75_df.values.reshape(-1))[::-1][60])"
   ]
  },
  {
   "cell_type": "markdown",
   "id": "133def7e-50ce-4166-b8a5-8717df4f5609",
   "metadata": {},
   "source": [
    "### 1.8 係り受けネットワーク図 "
   ]
  },
  {
   "cell_type": "markdown",
   "id": "ae862d88-43fb-49f9-a767-1b03249ac680",
   "metadata": {},
   "source": [
    "#### 1.8.1 係り受け行列を作成する"
   ]
  },
  {
   "cell_type": "code",
   "execution_count": null,
   "id": "c29bcb28-c74d-4059-9f8b-fa8aa851d528",
   "metadata": {
    "tags": []
   },
   "outputs": [],
   "source": [
    "# チャンク(chunk)から単語を取り出す\n",
    "def get_words(tree, from_chunk, stopwords):\n",
    "    beg = from_chunk.token_pos\n",
    "    end = from_chunk.token_pos + from_chunk.token_size\n",
    "\n",
    "    words = []\n",
    "    for i in range(beg, end):\n",
    "        token = tree.token(i)\n",
    "        features = token.feature.split(',')\n",
    "        pos1 = features[0]\n",
    "        pos2 = features[1] if len(features) > 1 else \"\"\n",
    "        base = features[6] if len(features) > 6 else None\n",
    "\n",
    "        if base not in stopwords:\n",
    "\n",
    "            if (pos1 == \"名詞\" and pos2 == \"一般\"):\n",
    "                base = base if base is not None else node.surface\n",
    "                postag = \"名詞\"\n",
    "                key = (base, postag)\n",
    "                words.append(key)\n",
    "\n",
    "            elif (pos1 == \"名詞\" and pos2 == \"形容動詞語幹\"):\n",
    "                base = base if base is not None else node.surface\n",
    "                base = f\"{base}だ\"\n",
    "                postag = \"形容動詞\"\n",
    "                key = (base, postag)\n",
    "                words.append(key)\n",
    "\n",
    "            elif pos1 == \"形容詞\":\n",
    "                base = base if base is not None else node.surface\n",
    "                postag = \"形容詞\"\n",
    "                key = (base, postag)\n",
    "                words.append(key)\n",
    "\n",
    "            elif pos1 == \"未知語\":\n",
    "                base = base if base is not None else node.surface\n",
    "                postag = \"未知語\"\n",
    "                key = (base, postag)\n",
    "                words.append(key)\n",
    "\n",
    "    return words\n",
    "\n",
    "\n",
    "import CaboCha\n",
    "\n",
    "cp = CaboCha.Parser(\"-r ../tools/usr/local/etc/cabocharc\")\n",
    "\n",
    "ZEN = \"\".join(chr(0xff01 + i) for i in range(94))\n",
    "HAN = \"\".join(chr(0x21 + i) for i in range(94))\n",
    "HAN2ZEN = str.maketrans(HAN, ZEN)\n",
    "\n",
    "# stopwords = ['する', 'ある', 'ない', 'いう', 'もの', 'こと', 'よう', 'なる', 'ほう']\n",
    "stopwords = ['*']\n",
    "\n",
    "pair_counts = defaultdict(lambda: 0)\n",
    "pairs = []\n",
    "\n",
    "for index, row in all_df.iterrows():\n",
    "    # print(cp.parseToString(row[\"コメント\"].translate(HAN2ZEN)))\n",
    "    tree = cp.parse(row[\"コメント\"].translate(HAN2ZEN))\n",
    "\n",
    "    # chunks = get_chunks(tree)\n",
    "    chunks = {}\n",
    "    key = 0\n",
    "    for i in range(tree.size()):\n",
    "        tok = tree.token(i)\n",
    "        if tok.chunk:\n",
    "            chunks[key] = tok.chunk\n",
    "            key += 1\n",
    "\n",
    "    for from_chunk in chunks.values():\n",
    "        if from_chunk.link < 0:\n",
    "            continue\n",
    "        to_chunk = chunks[from_chunk.link]\n",
    "\n",
    "        # from_surface = get_surface(tree, from_chunk)\n",
    "        from_words = get_words(tree, from_chunk, stopwords)\n",
    "\n",
    "        # to_surface = get_surface(tree, to_chunk)\n",
    "        to_words = get_words(tree, to_chunk, stopwords)\n",
    "\n",
    "    for f in from_words:\n",
    "        for t in to_words:\n",
    "            key = (f[0], t[0])\n",
    "            pair_counts[key] += 1\n",
    "\n",
    "Xc = cooccur_75_df.values\n",
    "Xd = np.zeros(Xc.shape)\n",
    "\n",
    "for (f,t), v in pair_counts.items():\n",
    "    columns = list(cooccur_75_df.columns)\n",
    "    if f in columns and t in columns:\n",
    "        i = columns.index(f)\n",
    "        j = columns.index(t)\n",
    "        Xd[i,j] = v\n",
    "\n",
    "dep_75_df = pd.DataFrame(Xd, columns=cooccur_75_df.columns, index=cooccur_75_df.columns)\n",
    "print(dep_75_df.shape)\n",
    "display(dep_75_df.head())"
   ]
  },
  {
   "cell_type": "markdown",
   "id": "1c3c0686-8812-4299-b0d6-09c8c5a91547",
   "metadata": {},
   "source": [
    "#### 1.8.2 条件付き確率を求める"
   ]
  },
  {
   "cell_type": "code",
   "execution_count": null,
   "id": "45a66387-7882-4204-aec0-4ae0a69a5f5e",
   "metadata": {
    "tags": []
   },
   "outputs": [],
   "source": [
    "Xc = cooccur_75_df.values\n",
    "Xd = np.zeros(Xc.shape)\n",
    "word_counts = cooccur_75_df.sum(axis=0).values\n",
    "\n",
    "for (f,t), v in pair_counts.items():\n",
    "    columns = list(cooccur_75_df.columns)\n",
    "    if f in columns and t in columns:\n",
    "        i = columns.index(f)\n",
    "        j = columns.index(t)\n",
    "        Xd[i,j] = v / word_counts[i]\n",
    "\n",
    "dep_75_df = pd.DataFrame(Xd, columns=cooccur_75_df.columns, index=cooccur_75_df.columns)\n",
    "print(dep_75_df.shape)\n",
    "display(dep_75_df.head())"
   ]
  },
  {
   "cell_type": "markdown",
   "id": "eeadfbfc-a59d-4521-9a83-df8d151ad94d",
   "metadata": {},
   "source": [
    "#### 1.8.3 プロットする"
   ]
  },
  {
   "cell_type": "code",
   "execution_count": null,
   "id": "833e01ec-a6fe-4aa0-9a45-76f3048711d9",
   "metadata": {
    "tags": []
   },
   "outputs": [],
   "source": [
    "word_counts = cross_75_df.sum(axis=0).values\n",
    "plot_dependency_network(dep_75_df, word_counts, np.sort(dep_75_df.values.reshape(-1))[::-1][60])"
   ]
  },
  {
   "cell_type": "markdown",
   "id": "2a0e4380-5010-4c7b-bfa6-a7d31d33cc9c",
   "metadata": {},
   "source": [
    "### 1.9 対応分析"
   ]
  },
  {
   "cell_type": "markdown",
   "id": "a3e9a848-977a-4384-913a-4caa32cd6555",
   "metadata": {},
   "source": [
    "「文書-抽出語」 表を確認する"
   ]
  },
  {
   "cell_type": "code",
   "execution_count": null,
   "id": "c4d3655d-0de3-4261-a75b-683924eb3958",
   "metadata": {
    "tags": []
   },
   "outputs": [],
   "source": [
    "print(cross_75_df.shape)\n",
    "display(cross_75_df.head())"
   ]
  },
  {
   "cell_type": "markdown",
   "id": "df75d709-9858-44fe-8c3e-848096449075",
   "metadata": {},
   "source": [
    "#### 1.9.1 「外部変数-抽出語」 クロス集計表を作成する"
   ]
  },
  {
   "cell_type": "code",
   "execution_count": null,
   "id": "f701946c-4d70-447e-8ef3-9fc2bff33e6d",
   "metadata": {
    "tags": []
   },
   "outputs": [],
   "source": [
    "aggregate_75_df = pd.concat([\n",
    "    cross_75_df.groupby(level='カテゴリー').sum(), \n",
    "    cross_75_df.groupby(level='エリア').sum()\n",
    "    ])\n",
    "print(aggregate_75_df.shape)\n",
    "display(aggregate_75_df)"
   ]
  },
  {
   "cell_type": "markdown",
   "id": "0fe18698-0c76-4da1-8279-c720716a401b",
   "metadata": {},
   "source": [
    "#### 1.9.2 対応分析プロットを作成する"
   ]
  },
  {
   "cell_type": "code",
   "execution_count": null,
   "id": "b4b390d4",
   "metadata": {},
   "outputs": [],
   "source": [
    "import mca\n",
    "\n",
    "ncols = aggregate_75_df.shape[1]\n",
    "mca_ben = mca.MCA(aggregate_75_df, ncols=ncols, benzecri=False)\n",
    "row_coord = mca_ben.fs_r(N=2)\n",
    "col_coord = mca_ben.fs_c(N=2)\n",
    "\n",
    "eigenvalues = mca_ben.L\n",
    "total = np.sum(eigenvalues)\n",
    "explained_inertia = 100 * eigenvalues / total\n",
    "\n",
    "row_labels = aggregate_75_df.index\n",
    "col_labels = aggregate_75_df.columns\n",
    "plot_coresp(row_coord, col_coord,row_labels, col_labels, explained_inertia)"
   ]
  },
  {
   "cell_type": "markdown",
   "id": "6c196efc-b548-4be5-ae0e-2784d26fa6c5",
   "metadata": {},
   "source": [
    "### 1.10 トピックモデル"
   ]
  },
  {
   "cell_type": "markdown",
   "id": "7d8c0604-d440-4ee9-bfd7-503e03491e4d",
   "metadata": {},
   "source": [
    "「文書-抽出語」 表を確認する"
   ]
  },
  {
   "cell_type": "code",
   "execution_count": null,
   "id": "dc745ac6-145f-4890-8eb0-d1ed04e7b145",
   "metadata": {
    "tags": []
   },
   "outputs": [],
   "source": [
    "print(cross_75_df.shape)\n",
    "display(cross_75_df.head())"
   ]
  },
  {
   "cell_type": "markdown",
   "id": "7ea9839a-a004-47a9-958e-c26c92b9cefc",
   "metadata": {},
   "source": [
    "#### 1.10.1 トピックを抽出する (LDA)"
   ]
  },
  {
   "cell_type": "code",
   "execution_count": null,
   "id": "36ff4904-3dbe-4637-900e-bc0365a159e3",
   "metadata": {
    "tags": []
   },
   "outputs": [],
   "source": [
    "from sklearn.decomposition import LatentDirichletAllocation as LDA\n",
    "\n",
    "lda = LDA(max_iter=25, learning_method='batch', random_state=0, n_jobs=-1, n_components=6)\n",
    "lda.fit(cross_75_df.values)\n",
    "\n",
    "n_top_words = 20\n",
    "feature_names = cross_75_df.columns\n",
    "\n",
    "for topic_idx, topic in enumerate(lda.components_):\n",
    "    print(f\"Topic # {topic_idx+1}:\", end=\" \")\n",
    "    for i in topic.argsort()[:-n_top_words-1:-1]:\n",
    "        print(feature_names[i], end=\" \")\n",
    "    print()"
   ]
  },
  {
   "cell_type": "markdown",
   "id": "e4e0b8e1-6d13-403c-8fc0-2b474ee1a830",
   "metadata": {},
   "source": [
    "#### 1.10.2 結果をワードクラウドで描画する"
   ]
  },
  {
   "cell_type": "code",
   "execution_count": null,
   "id": "0964af57-f372-44fb-9b37-6e5cdd555115",
   "metadata": {
    "tags": []
   },
   "outputs": [],
   "source": [
    "n_top_words = 75\n",
    "plot_topic_model(lda, feature_names, n_top_words)"
   ]
  },
  {
   "cell_type": "markdown",
   "id": "fb028d1e-756d-4cff-bd8a-6a87ce6e2214",
   "metadata": {},
   "source": [
    "---"
   ]
  },
  {
   "cell_type": "markdown",
   "id": "40790a01-51e1-48df-8ecb-a9ed4c89d070",
   "metadata": {},
   "source": [
    "### 1.11 外部変数の利用"
   ]
  },
  {
   "cell_type": "markdown",
   "id": "efdfee48",
   "metadata": {},
   "source": [
    "#### 1.11.1 「文書-抽出語」表の作成"
   ]
  },
  {
   "cell_type": "markdown",
   "id": "6c2ae3da",
   "metadata": {},
   "source": [
    "「文書-抽出語」表を作成する (出現回数 Top 150語)"
   ]
  },
  {
   "cell_type": "code",
   "execution_count": null,
   "id": "24f4710b",
   "metadata": {},
   "outputs": [],
   "source": [
    "word_counts_150_df = word_counts_df[0:150]\n",
    "merged_df = pd.merge(docs_df, word_counts_150_df, how=\"inner\", on=\"dict_key\", suffixes=[\"\", \"_right\"])\n",
    "docs_150_df = merged_df[[\"文書ID\", \"単語ID\", \"表層\", \"品詞\", \"カテゴリー\", \"エリア\", \"dict_key\"]]\n",
    "\n",
    "cross_150_df = pd.crosstab(\n",
    "    [\n",
    "        docs_150_df['カテゴリー'], \n",
    "        docs_150_df['エリア'], \n",
    "        docs_150_df['文書ID']\n",
    "    ], \n",
    "    docs_150_df['単語ID'], margins=False\n",
    ")\n",
    "cross_150_df.columns = word_counts_150_df[\"表層\"]"
   ]
  },
  {
   "cell_type": "markdown",
   "id": "d3242b27",
   "metadata": {},
   "source": [
    "「文書-抽出語」表を {0,1} に変換する"
   ]
  },
  {
   "cell_type": "code",
   "execution_count": null,
   "id": "0072d53b",
   "metadata": {},
   "outputs": [],
   "source": [
    "cross_150_df[cross_150_df > 0] = 1\n",
    "print(cross_150_df.shape)\n",
    "display(cross_150_df)"
   ]
  },
  {
   "cell_type": "markdown",
   "id": "e4226699",
   "metadata": {},
   "source": [
    "#### 1.11.2 共起行列を作成する (外部変数-抽出語)"
   ]
  },
  {
   "cell_type": "code",
   "execution_count": null,
   "id": "139edac1",
   "metadata": {},
   "outputs": [],
   "source": [
    "aggregate_df = pd.concat(\n",
    "    [\n",
    "        cross_150_df.groupby(level='カテゴリー').sum(), \n",
    "        cross_150_df.groupby(level='エリア').sum()\n",
    "    ]\n",
    ")\n",
    "print(aggregate_df.shape)\n",
    "display(aggregate_df)"
   ]
  },
  {
   "cell_type": "markdown",
   "id": "d44de28a",
   "metadata": {},
   "source": [
    "#### 1.11.3 Jaccard 係数を求める (外部変数-抽出語)"
   ]
  },
  {
   "cell_type": "code",
   "execution_count": null,
   "id": "8660aa4a",
   "metadata": {},
   "outputs": [],
   "source": [
    "word_counts = cross_150_df.sum(axis=0).values\n",
    "attr_counts = np.hstack(\n",
    "    [\n",
    "        all_df.value_counts('カテゴリー').values,\n",
    "        all_df.value_counts('エリア').values\n",
    "    ]\n",
    ")\n",
    "jaccard_attrs_df = jaccard_attrs_coef(aggregate_df, attr_counts, word_counts, total=10000, conditional=False)\n",
    "print(jaccard_attrs_df.shape)\n",
    "display(jaccard_attrs_df)"
   ]
  },
  {
   "cell_type": "markdown",
   "id": "7fc483ed",
   "metadata": {},
   "source": [
    "#### 1.11.4 特徴語ランキング"
   ]
  },
  {
   "cell_type": "code",
   "execution_count": null,
   "id": "850e71f6",
   "metadata": {},
   "outputs": [],
   "source": [
    "df_list = []\n",
    "for index, row in jaccard_attrs_df.iterrows():\n",
    "    df_list.append(row.iloc[np.argsort(row.values)[::-1][:10]].reset_index())\n",
    "\n",
    "ranking_df = pd.DataFrame(pd.concat(df_list, axis=1))\n",
    "ranking_df.columns = np.array([c for pair in [[x,f\"jaccard\"] for x in jaccard_attrs_df.index] for c in pair], dtype='object')\n",
    "display(ranking_df)"
   ]
  },
  {
   "cell_type": "markdown",
   "id": "8957e9f2",
   "metadata": {},
   "source": [
    "#### 1.11.5 ワードクラウド (カテゴリーごと)"
   ]
  },
  {
   "cell_type": "code",
   "execution_count": null,
   "id": "c9cde080",
   "metadata": {},
   "outputs": [],
   "source": [
    "from scipy.sparse import csc_matrix\n",
    "\n",
    "for name, group in cross_150_df.groupby(level='カテゴリー'):\n",
    "    print(name)\n",
    "\n",
    "    sorted_columns = np.argsort(jaccard_attrs_df.loc[name].values)[::-1][:75]\n",
    "    group_cross_df = group.iloc[:,sorted_columns]\n",
    "    plot_wordcloud(\" \".join(group_cross_df.columns))"
   ]
  },
  {
   "cell_type": "markdown",
   "id": "fb7a0dfb",
   "metadata": {},
   "source": [
    "#### 1.11.6 共起ネットワーク図 (カテゴリーごと)"
   ]
  },
  {
   "cell_type": "code",
   "execution_count": null,
   "id": "403f6ba3",
   "metadata": {},
   "outputs": [],
   "source": [
    "from scipy.sparse import csc_matrix\n",
    "\n",
    "for name, group in cross_150_df.groupby(level='カテゴリー'):\n",
    "    print(name)\n",
    "\n",
    "    sorted_columns = np.argsort(jaccard_attrs_df.loc[name].values)[::-1][:75]\n",
    "    group_cross_df = group.iloc[:,sorted_columns]\n",
    "\n",
    "    X = group_cross_df.values\n",
    "    X = csc_matrix(X)\n",
    "    Xc = (X.T * X)\n",
    "    Xc = np.triu(Xc.toarray())\n",
    "\n",
    "    group_cooccur_df = pd.DataFrame(Xc, columns=group_cross_df.columns, index=group_cross_df.columns)\n",
    "    group_jaccard_df = jaccard_coef(group_cooccur_df, group_cross_df)\n",
    "\n",
    "    word_counts = group.sum(axis=0).values\n",
    "    plot_cooccur_network(group_jaccard_df, word_counts, np.sort(group_jaccard_df.values.reshape(-1))[::-1][60])"
   ]
  },
  {
   "cell_type": "markdown",
   "id": "4f52a1c4",
   "metadata": {},
   "source": [
    "#### 1.11.7 【演習】 ワードクラウド (エリアごと)"
   ]
  },
  {
   "cell_type": "code",
   "execution_count": null,
   "id": "fb200a0f",
   "metadata": {},
   "outputs": [],
   "source": [
    "# ToDo"
   ]
  },
  {
   "cell_type": "markdown",
   "id": "a2fdc8b9",
   "metadata": {},
   "source": [
    "#### 1.11.8 【演習】 共起ネットワーク図 (エリアごと)"
   ]
  },
  {
   "cell_type": "code",
   "execution_count": null,
   "id": "ebebe4fa",
   "metadata": {
    "tags": []
   },
   "outputs": [],
   "source": [
    "# ToDo"
   ]
  }
 ],
 "metadata": {
  "kernelspec": {
   "display_name": "gssm2023:Python",
   "language": "python",
   "name": "conda-env-gssm2023-py"
  },
  "language_info": {
   "codemirror_mode": {
    "name": "ipython",
    "version": 3
   },
   "file_extension": ".py",
   "mimetype": "text/x-python",
   "name": "python",
   "nbconvert_exporter": "python",
   "pygments_lexer": "ipython3",
   "version": "3.11.3"
  },
  "toc-autonumbering": false
 },
 "nbformat": 4,
 "nbformat_minor": 5
}
